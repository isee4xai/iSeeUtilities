{
 "cells": [
  {
   "cell_type": "code",
   "execution_count": 1,
   "id": "81acf774",
   "metadata": {},
   "outputs": [],
   "source": [
    "import pandas as pd\n",
    "import json\n",
    "from utils import gettingExplainerProperties"
   ]
  },
  {
   "cell_type": "code",
   "execution_count": 2,
   "id": "2f0e9aac",
   "metadata": {},
   "outputs": [],
   "source": [
    "## Filter the explainers and their property values\n",
    "def filter_properties(properties_dict, filter_properties_dict):\n",
    "    for explainer, properties in properties_dict.items():\n",
    "        for prop, prop_value in properties.items(): \n",
    "            if isinstance(prop_value, list) == False: # isinstance() check is performed to identify if the value is a list. :\n",
    "                filter_properties_dict.setdefault(prop, set()).add(prop_value)\n",
    "            else:\n",
    "                filter_properties_dict.setdefault(prop, set()).update(prop_value)\n",
    "         \n",
    "\n",
    "    return filter_properties_dict"
   ]
  },
  {
   "cell_type": "code",
   "execution_count": 3,
   "id": "acc5b16c",
   "metadata": {},
   "outputs": [],
   "source": [
    "# A function to get all the explainers in the BT, and to get all the properties that those explainers have\n",
    "def get_all_properties_from_current_bt(original_case, explainer_data): \n",
    "    transformed_properties = {}\n",
    "    \n",
    "    nodes = original_case[0]['data']['trees'][0]['nodes']\n",
    "    # print('nodes', nodes)   \n",
    "       \n",
    "    filtered_instances, instance_properties = {}, {}\n",
    "    # Get all the explainers in the BT \n",
    "    for id, node_data in nodes.items():\n",
    "        instance = node_data.get(\"Instance\")\n",
    "        # Extract \"Instance\" values of all IDs that start with '/'\n",
    "        if instance and instance.startswith('/'):\n",
    "            filtered_instances[id] = instance   \n",
    "    explainer_list = list(explainer_data.keys())\n",
    "    \n",
    "    # Iterate through the filtered_instances\n",
    "    for id, instance in filtered_instances.items():\n",
    "        # print(f\"ID: {id}, Instance: {instance}\")\n",
    "        # Find the explainer with a matching 'name' attribute\n",
    "        matching_explainer = next((explainer for explainer in explainer_list if explainer == instance), None)\n",
    "        #print('\\nmatching_explainer', matching_explainer)\n",
    "      \n",
    "        # Check if a matching explainer was found\n",
    "        if matching_explainer:            \n",
    "            # Store the properties in the dictionary using the instance name as the key\n",
    "            instance_properties[instance] = explainer_data[instance]\n",
    "\n",
    "    # transformed_properties = filter_explainer_properties(instance_properties)\n",
    "    transformed_properties = filter_properties(instance_properties, transformed_properties)\n",
    "                                    \n",
    "    return transformed_properties"
   ]
  },
  {
   "cell_type": "code",
   "execution_count": 4,
   "id": "94712719",
   "metadata": {},
   "outputs": [],
   "source": [
    "def updateComplexList(prop_value):\n",
    "    property_tmp_x = prop_value[:-2].replace('[','').split('], ')\n",
    "    property_tmp = [list(x.replace(\"'\",\"\").split(', ')) for x in property_tmp_x]\n",
    "    property_flatten = [x for y in property_tmp for x in y]\n",
    "    return property_flatten"
   ]
  },
  {
   "cell_type": "code",
   "execution_count": 5,
   "id": "5071a334",
   "metadata": {},
   "outputs": [],
   "source": [
    "def updateSimpleList(prop_value):\n",
    "    property_tmp = prop_value.replace('[','').replace(']','').replace(\"'\",\"\").split(', ')\n",
    "    return property_tmp"
   ]
  },
  {
   "cell_type": "code",
   "execution_count": 6,
   "id": "41fae4dc",
   "metadata": {},
   "outputs": [],
   "source": [
    "def updateDict(my_dict):\n",
    "    my_dict[\"explainer\"] = my_dict.pop(\"Explainer\")\n",
    "    my_dict[\"technique\"] = updateSimpleList(my_dict.pop(\"ExplainabilityTechniqueType\")) #\n",
    "    my_dict.pop(\"ExplainerDescription\")\n",
    "    my_dict[\"dataset_type\"] = my_dict.pop(\"DatasetType\")\n",
    "    my_dict[\"explanation_type\"] = updateSimpleList(my_dict.pop(\"ExplanationOutputType\")) #\n",
    "    my_dict.pop(\"ExplanationDescription\")\n",
    "    my_dict[\"concurrentness\"] = my_dict.pop(\"Concurrentness\")\n",
    "    my_dict[\"portability\"] = my_dict.pop(\"Portability\")\n",
    "    my_dict[\"scope\"] = my_dict.pop(\"Scope\")\n",
    "    my_dict[\"target\"] = my_dict.pop(\"TargetType\")\n",
    "    my_dict[\"presentations\"] = updateComplexList(my_dict.pop(\"OutputType\")) ##\n",
    "    my_dict[\"computational_complexity\"] = my_dict.pop(\"Complexity\")\n",
    "    my_dict[\"ai_methods\"] = updateComplexList(my_dict.pop(\"AIMethodType\")) ##\n",
    "    my_dict[\"ai_tasks\"] = updateComplexList(my_dict.pop(\"AITaskType\")) ##\n",
    "    my_dict[\"implementation\"] = updateSimpleList(my_dict.pop(\"Backend\")) #\n",
    "    my_dict.pop(\"metadata\")\n",
    "    return my_dict"
   ]
  },
  {
   "cell_type": "code",
   "execution_count": 7,
   "id": "81f6f81e",
   "metadata": {},
   "outputs": [],
   "source": [
    "def getPropertiesFormat():\n",
    "    properties = gettingExplainerProperties().to_dict(orient='records')\n",
    "    data_dict = {item['Explainer']: item for item in properties}\n",
    "    prop_dict = {x[0]: updateDict(x[1]) for x in data_dict.items()}\n",
    "    return prop_dict"
   ]
  },
  {
   "cell_type": "code",
   "execution_count": 8,
   "id": "47479866",
   "metadata": {},
   "outputs": [],
   "source": [
    "def getBTExplainerProperties(original_case):\n",
    "    \"\"\"\n",
    "        This function is going to show the explainer properties that are in the current BT\n",
    "        Petyo has to use this function to click all these properties in the form\n",
    "    \"\"\"\n",
    "    \n",
    "    return get_all_properties_from_current_bt(original_case, getPropertiesFormat())"
   ]
  },
  {
   "cell_type": "code",
   "execution_count": 9,
   "id": "9fb1f0a9",
   "metadata": {},
   "outputs": [],
   "source": [
    "with open(\"test_original.json\", \"r\") as f:\n",
    "    original_case = json.load(f)\n",
    "    "
   ]
  },
  {
   "cell_type": "code",
   "execution_count": 10,
   "id": "a06fca26",
   "metadata": {},
   "outputs": [
    {
     "name": "stdout",
     "output_type": "stream",
     "text": [
      "{'/Tabular/LIME': {'explainer': '/Tabular/LIME', 'technique': ['LIME', 'Simplification By Linear Regression', 'Simplification'], 'dataset_type': 'Multivariate', 'explanation_type': ['Feature Influence Explanation'], 'concurrentness': 'Post-hoc', 'portability': 'Model-agnostic', 'scope': 'Local', 'target': 'Prediction', 'presentations': ['chart', 'figure', 'media', 'table', 'figure', 'media'], 'computational_complexity': 'Quadratic time', 'ai_methods': ['Machine Learning'], 'ai_tasks': ['Classification', 'Inductive Task', 'Regression', 'Inductive Task'], 'implementation': ['PyTorch', 'Sklearn', 'TensorFlow 1', 'TensorFlow 2']}, '/Images/Anchors': {'explainer': '/Images/Anchors', 'technique': ['Anchor', 'Simplification By Rule Extraction', 'Simplification'], 'dataset_type': 'Image', 'explanation_type': ['Anchor Explanation', 'Feature Influence Explanation'], 'concurrentness': 'Post-hoc', 'portability': 'Model-agnostic', 'scope': 'Local', 'target': 'Prediction', 'presentations': ['image', 'figure', 'media'], 'computational_complexity': 'Quadratic time', 'ai_methods': ['Machine Learning'], 'ai_tasks': ['Classification', 'Inductive Task'], 'implementation': ['Any']}, '/Images/Counterfactuals': {'explainer': '/Images/Counterfactuals', 'technique': ['Wachter', 'Optimisation Based'], 'dataset_type': 'Image', 'explanation_type': ['Counterfactual Explanation'], 'concurrentness': 'Post-hoc', 'portability': 'Model-agnostic', 'scope': 'Local', 'target': 'Prediction', 'presentations': ['image', 'figure', 'media'], 'computational_complexity': 'Quadratic time', 'ai_methods': ['Supervised Machine Learning', 'Machine Learning'], 'ai_tasks': ['Classification', 'Inductive Task'], 'implementation': ['TensorFlow 2']}, '/Images/GradCamTorch': {'explainer': '/Images/GradCamTorch', 'technique': ['Wachter', 'Optimisation Based'], 'dataset_type': 'Image', 'explanation_type': ['Saliency Map', 'Feature Influence Explanation'], 'concurrentness': 'Post-hoc', 'portability': 'Model-specific', 'scope': 'Local', 'target': 'Prediction', 'presentations': ['image', 'figure', 'media'], 'computational_complexity': 'Linearithmic time', 'ai_methods': ['Neural Networks (Computer)', 'Supervised Machine Learning', 'Machine Learning'], 'ai_tasks': ['Classification', 'Inductive Task'], 'implementation': ['PyTorch']}, '/Images/LIME': {'explainer': '/Images/LIME', 'technique': ['LIME', 'Simplification By Linear Regression', 'Simplification'], 'dataset_type': 'Image', 'explanation_type': ['Feature Influence Explanation'], 'concurrentness': 'Post-hoc', 'portability': 'Model-agnostic', 'scope': 'Local', 'target': 'Prediction', 'presentations': ['image', 'figure', 'media'], 'computational_complexity': 'Quadratic time', 'ai_methods': ['Supervised Machine Learning', 'Machine Learning'], 'ai_tasks': ['Classification', 'Inductive Task'], 'implementation': ['PyTorch', 'Sklearn', 'TensorFlow 1', 'TensorFlow 2']}, '/Tabular/ALE': {'explainer': '/Tabular/ALE', 'technique': ['ALE', 'Influence Function', 'Feature Relevance'], 'dataset_type': 'Multivariate', 'explanation_type': ['Feature Influence Explanation'], 'concurrentness': 'Post-hoc', 'portability': 'Model-agnostic', 'scope': 'Global', 'target': 'Model', 'presentations': ['chart', 'figure', 'media'], 'computational_complexity': 'Linearithmic time', 'ai_methods': ['Supervised Machine Learning', 'Machine Learning'], 'ai_tasks': ['Classification', 'Inductive Task', 'Regression', 'Inductive Task'], 'implementation': ['Any']}, '/Tabular/Anchors': {'explainer': '/Tabular/Anchors', 'technique': ['Anchor', 'Simplification By Rule Extraction', 'Simplification'], 'dataset_type': 'Multivariate', 'explanation_type': ['Anchor Explanation', 'Feature Influence Explanation'], 'concurrentness': 'Post-hoc', 'portability': 'Model-agnostic', 'scope': 'Local', 'target': 'Prediction', 'presentations': ['chart', 'figure', 'media', 'textual entity', 'language entity'], 'computational_complexity': 'Quadratic time', 'ai_methods': ['Supervised Machine Learning', 'Machine Learning', 'Machine Learning'], 'ai_tasks': ['Classification', 'Inductive Task'], 'implementation': ['Any']}, '/Tabular/DicePrivate': {'explainer': '/Tabular/DicePrivate', 'technique': ['DiCE', 'Optimisation Based'], 'dataset_type': 'Multivariate', 'explanation_type': ['Counterfactual Explanation'], 'concurrentness': 'Post-hoc', 'portability': 'Model-agnostic', 'scope': 'Local', 'target': 'Prediction', 'presentations': ['table', 'figure', 'media'], 'computational_complexity': 'Quadratic time', 'ai_methods': ['Supervised Machine Learning', 'Machine Learning'], 'ai_tasks': ['Classification', 'Inductive Task'], 'implementation': ['TensorFlow 1', 'TensorFlow 2']}, '/Tabular/DicePublic': {'explainer': '/Tabular/DicePublic', 'technique': ['DiCE', 'Optimisation Based'], 'dataset_type': 'Multivariate', 'explanation_type': ['Counterfactual Explanation'], 'concurrentness': 'Post-hoc', 'portability': 'Model-agnostic', 'scope': 'Local', 'target': 'Prediction', 'presentations': ['table', 'figure', 'media'], 'computational_complexity': 'Quadratic time', 'ai_methods': ['Supervised Machine Learning', 'Machine Learning'], 'ai_tasks': ['Classification', 'Inductive Task'], 'implementation': ['PyTorch', 'Sklearn', 'TensorFlow 1', 'TensorFlow 2']}, '/Tabular/DisCERN': {'explainer': '/Tabular/DisCERN', 'technique': ['DisCERN', 'Data-driven'], 'dataset_type': 'Multivariate', 'explanation_type': ['Counterfactual Explanation'], 'concurrentness': 'Post-hoc', 'portability': 'Model-agnostic', 'scope': 'Local', 'target': 'Prediction', 'presentations': ['table', 'figure', 'media'], 'computational_complexity': 'Quadratic time', 'ai_methods': ['Supervised Machine Learning', 'Machine Learning'], 'ai_tasks': ['Classification', 'Inductive Task'], 'implementation': ['Sklearn']}, '/Tabular/Importance': {'explainer': '/Tabular/Importance', 'technique': ['Feature Relevance'], 'dataset_type': 'Multivariate', 'explanation_type': ['Feature Influence Explanation'], 'concurrentness': 'Post-hoc', 'portability': 'Model-agnostic', 'scope': 'Global', 'target': 'Prediction', 'presentations': ['chart', 'figure', 'media'], 'computational_complexity': 'Quadratic time', 'ai_methods': ['Supervised Machine Learning', 'Machine Learning'], 'ai_tasks': ['Classification', 'Inductive Task', 'Regression', 'Inductive Task'], 'implementation': ['Any']}, '/Tabular/DeepSHAPGlobal': {'explainer': '/Tabular/DeepSHAPGlobal', 'technique': ['SHAP', 'Game Theory Technique', 'Feature Relevance'], 'dataset_type': 'Multivariate', 'explanation_type': ['Feature Influence Explanation'], 'concurrentness': 'Post-hoc', 'portability': 'Model-specific', 'scope': 'Global', 'target': 'Prediction', 'presentations': ['chart', 'figure', 'media', 'plot', 'figure part', 'media'], 'computational_complexity': 'Quadratic time', 'ai_methods': ['Neural Networks (Computer)', 'Supervised Machine Learning', 'Machine Learning'], 'ai_tasks': ['Classification', 'Inductive Task', 'Regression', 'Inductive Task'], 'implementation': ['TensorFlow 1', 'TensorFlow 2']}, '/Tabular/DeepSHAPLocal': {'explainer': '/Tabular/DeepSHAPLocal', 'technique': ['SHAP', 'Game Theory Technique', 'Feature Relevance'], 'dataset_type': 'Multivariate', 'explanation_type': ['Feature Influence Explanation'], 'concurrentness': 'Post-hoc', 'portability': 'Model-specific', 'scope': 'Local', 'target': 'Prediction', 'presentations': ['chart', 'figure', 'media', 'plot', 'figure part', 'media'], 'computational_complexity': 'Quadratic time', 'ai_methods': ['Neural Networks (Computer)', 'Supervised Machine Learning', 'Machine Learning'], 'ai_tasks': ['Classification', 'Inductive Task', 'Regression', 'Inductive Task'], 'implementation': ['TensorFlow 1', 'TensorFlow 2']}, '/Tabular/KernelSHAPLocal': {'explainer': '/Tabular/KernelSHAPLocal', 'technique': ['SHAP', 'Game Theory Technique', 'Feature Relevance'], 'dataset_type': 'Multivariate', 'explanation_type': ['Feature Influence Explanation'], 'concurrentness': 'Post-hoc', 'portability': 'Model-agnostic', 'scope': 'Local', 'target': 'Prediction', 'presentations': ['chart', 'figure', 'media', 'plot', 'figure part', 'media'], 'computational_complexity': 'Exponential time', 'ai_methods': ['Supervised Machine Learning', 'Machine Learning'], 'ai_tasks': ['Classification', 'Inductive Task', 'Regression', 'Inductive Task'], 'implementation': ['Any']}, '/Tabular/KernelSHAPGlobal': {'explainer': '/Tabular/KernelSHAPGlobal', 'technique': ['SHAP', 'Game Theory Technique', 'Feature Relevance'], 'dataset_type': 'Multivariate', 'explanation_type': ['Feature Influence Explanation'], 'concurrentness': 'Post-hoc', 'portability': 'Model-agnostic', 'scope': 'Global', 'target': 'Model', 'presentations': ['chart', 'figure', 'media', 'plot', 'figure part', 'media'], 'computational_complexity': 'Exponential time', 'ai_methods': ['Supervised Machine Learning', 'Machine Learning'], 'ai_tasks': ['Classification', 'Inductive Task', 'Regression', 'Inductive Task'], 'implementation': ['Any']}, '/Tabular/TreeSHAPGlobal': {'explainer': '/Tabular/TreeSHAPGlobal', 'technique': ['SHAP', 'Game Theory Technique', 'Feature Relevance'], 'dataset_type': 'Multivariate', 'explanation_type': ['Feature Influence Explanation'], 'concurrentness': 'Post-hoc', 'portability': 'Model-specific', 'scope': 'Global', 'target': 'Model', 'presentations': ['chart', 'figure', 'media', 'plot', 'figure part', 'media'], 'computational_complexity': 'Quadratic time', 'ai_methods': ['Ensemble Method', 'Supervised Machine Learning', 'Machine Learning'], 'ai_tasks': ['Classification', 'Inductive Task', 'Regression', 'Inductive Task'], 'implementation': ['LightGBM', 'Sklearn', 'XGBoost']}, '/Tabular/TreeSHAPLocal': {'explainer': '/Tabular/TreeSHAPLocal', 'technique': ['SHAP', 'Game Theory Technique', 'Feature Relevance'], 'dataset_type': 'Multivariate', 'explanation_type': ['Feature Influence Explanation'], 'concurrentness': 'Post-hoc', 'portability': 'Model-specific', 'scope': 'Local', 'target': 'Prediction', 'presentations': ['chart', 'figure', 'media', 'plot', 'figure part', 'media'], 'computational_complexity': 'Quadratic time', 'ai_methods': ['Ensemble Method', 'Supervised Machine Learning', 'Machine Learning'], 'ai_tasks': ['Classification', 'Inductive Task', 'Regression', 'Inductive Task'], 'implementation': ['LightGBM', 'Sklearn', 'XGBoost']}, '/Tabular/NICE': {'explainer': '/Tabular/NICE', 'technique': ['Wachter', 'Optimisation Based'], 'dataset_type': 'Multivariate', 'explanation_type': ['Counterfactual Explanation'], 'concurrentness': 'Post-hoc', 'portability': 'Model-agnostic', 'scope': 'Local', 'target': 'Prediction', 'presentations': ['table', 'figure', 'media'], 'computational_complexity': 'Linearithmic time', 'ai_methods': ['Supervised Machine Learning', 'Machine Learning'], 'ai_tasks': ['Classification', 'Inductive Task'], 'implementation': ['Any']}, '/Text/LIME': {'explainer': '/Text/LIME', 'technique': ['LIME', 'Simplification By Linear Regression', 'Simplification'], 'dataset_type': 'Text', 'explanation_type': ['Feature Influence Explanation'], 'concurrentness': 'Post-hoc', 'portability': 'Model-agnostic', 'scope': 'Local', 'target': 'Prediction', 'presentations': ['chart', 'figure', 'media'], 'computational_complexity': 'Linearithmic time', 'ai_methods': ['Supervised Machine Learning', 'Machine Learning', 'Natural Language Processing'], 'ai_tasks': ['Classification', 'Inductive Task'], 'implementation': ['Any']}, '/Images/IntegratedGradients': {'explainer': '/Images/IntegratedGradients', 'technique': ['Integrated Gradient Technique', 'Gradient-based Technique', 'Feature Relevance'], 'dataset_type': 'Image', 'explanation_type': ['Contrasting Feature Importance Explanation', 'Feature Influence Explanation'], 'concurrentness': 'Post-hoc', 'portability': 'Model-class specific', 'scope': 'Local', 'target': 'Prediction', 'presentations': ['heatmap', 'chart', 'figure', 'media'], 'computational_complexity': 'Quadratic time', 'ai_methods': ['Neural Networks (Computer)', 'Supervised Machine Learning', 'Machine Learning'], 'ai_tasks': ['Classification', 'Inductive Task'], 'implementation': ['TensorFlow 1', 'TensorFlow 2']}, '/Tabular/IREX': {'explainer': '/Tabular/IREX', 'technique': ['ALE', 'Influence Function', 'Feature Relevance'], 'dataset_type': 'Multivariate', 'explanation_type': ['Feature Influence Explanation'], 'concurrentness': 'Post-hoc', 'portability': 'Model-specific', 'scope': 'Global', 'target': 'Model', 'presentations': ['chart', 'figure', 'media'], 'computational_complexity': 'Linearithmic time', 'ai_methods': ['Machine Learning'], 'ai_tasks': ['Classification', 'Inductive Task'], 'implementation': ['Any']}, '/Text/NLPClassifier': {'explainer': '/Text/NLPClassifier', 'technique': ['Data-driven'], 'dataset_type': 'Text', 'explanation_type': ['Feature Influence Explanation'], 'concurrentness': 'Post-hoc', 'portability': 'Model-specific', 'scope': 'Local', 'target': 'Prediction', 'presentations': ['textual entity', 'language entity', 'table', 'figure', 'media'], 'computational_complexity': 'Quadratic time', 'ai_methods': ['Natural Language Processing', 'Machine Learning'], 'ai_tasks': ['Multi-class Classification', 'Classification', 'Inductive Task'], 'implementation': ['Sklearn']}, '/Timeseries/CBRFox': {'explainer': '/Timeseries/CBRFox', 'technique': ['Knowledge Extraction'], 'dataset_type': 'Time series', 'explanation_type': ['Case Based Explanation'], 'concurrentness': 'Post-hoc', 'portability': 'Model-agnostic', 'scope': 'Local', 'target': 'Prediction', 'presentations': ['chart', 'figure', 'media'], 'computational_complexity': 'Quadratic time', 'ai_methods': ['Natural Language Processing', 'Machine Learning'], 'ai_tasks': ['Forecasting', 'Inductive Task'], 'implementation': ['Any']}, '/Images/GradCam': {'explainer': '/Images/GradCam', 'technique': ['GradCam Technique', 'Gradient-based Technique', 'Feature Relevance'], 'dataset_type': 'Image', 'explanation_type': ['Saliency Map', 'Feature Influence Explanation'], 'concurrentness': 'Post-hoc', 'portability': 'Model-specific', 'scope': 'Local', 'target': 'Prediction', 'presentations': ['image', 'figure', 'media'], 'computational_complexity': 'Linearithmic time', 'ai_methods': ['Neural Networks (Computer)', 'Supervised Machine Learning', 'Machine Learning'], 'ai_tasks': ['Classification', 'Inductive Task'], 'implementation': ['PyTorch', 'TensorFlow 1', 'TensorFlow 2']}, '/Images/NearestNeighbours': {'explainer': '/Images/NearestNeighbours', 'technique': ['Data-driven'], 'dataset_type': 'Image', 'explanation_type': ['Neighbourhood Explanation'], 'concurrentness': 'Post-hoc', 'portability': 'Model-class specific', 'scope': 'Local', 'target': 'Prediction', 'presentations': ['image', 'figure', 'media'], 'computational_complexity': 'Exponential time', 'ai_methods': ['Neural Networks (Computer)', 'Supervised Machine Learning', 'Machine Learning'], 'ai_tasks': ['Classification', 'Inductive Task', 'Regression', 'Inductive Task'], 'implementation': ['PyTorch', 'TensorFlow 1', 'TensorFlow 2']}, '/Misc/AIModePerformance': {'explainer': '/Misc/AIModePerformance', 'technique': ['Knowledge Extraction'], 'dataset_type': 'Image', 'explanation_type': ['Statistical Explanation'], 'concurrentness': 'Post-hoc', 'portability': 'Model-agnostic', 'scope': 'Global', 'target': 'Model', 'presentations': ['table', 'figure', 'media'], 'computational_complexity': 'Constant time', 'ai_methods': ['Supervised Machine Learning', 'Machine Learning'], 'ai_tasks': ['Inductive Task'], 'implementation': ['Any']}, '/Misc/AIModelPerformance': {'explainer': '/Misc/AIModelPerformance', 'technique': ['Data-driven'], 'dataset_type': 'Multivariate', 'explanation_type': ['Statistical Explanation'], 'concurrentness': 'Post-hoc', 'portability': 'Model-agnostic', 'scope': 'Global', 'target': 'Model', 'presentations': ['table', 'figure', 'media'], 'computational_complexity': 'Constant time', 'ai_methods': ['Supervised Machine Learning', 'Machine Learning'], 'ai_tasks': ['Inductive Task'], 'implementation': ['Any']}, '/Tabular/PertCF': {'explainer': '/Tabular/PertCF', 'technique': ['SHAP', 'Game Theory Technique', 'Feature Relevance'], 'dataset_type': 'Multivariate', 'explanation_type': ['Counterfactual Explanation'], 'concurrentness': 'Post-hoc', 'portability': 'Model-class specific', 'scope': 'Cohort', 'target': 'Prediction', 'presentations': ['Counterfactual Explanation', 'Explanation', 'computational entity'], 'computational_complexity': 'Logarithmic time', 'ai_methods': ['Supervised Machine Learning', 'Machine Learning'], 'ai_tasks': ['Binary Classification', 'Classification', 'Inductive Task', 'Multi-class Classification', 'Classification', 'Inductive Task'], 'implementation': ['Any']}}\n"
     ]
    }
   ],
   "source": [
    "print(getPropertiesFormat())"
   ]
  },
  {
   "cell_type": "code",
   "execution_count": 11,
   "id": "b06981ac",
   "metadata": {},
   "outputs": [
    {
     "name": "stdout",
     "output_type": "stream",
     "text": [
      "{'explainer': {'/Tabular/LIME', '/Images/Anchors'}, 'technique': {'Simplification', 'Anchor', 'Simplification By Rule Extraction', 'LIME', 'Simplification By Linear Regression'}, 'dataset_type': {'Multivariate', 'Image'}, 'explanation_type': {'Feature Influence Explanation', 'Anchor Explanation'}, 'concurrentness': {'Post-hoc'}, 'portability': {'Model-agnostic'}, 'scope': {'Local'}, 'target': {'Prediction'}, 'presentations': {'figure', 'media', 'image', 'table', 'chart'}, 'computational_complexity': {'Quadratic time'}, 'ai_methods': {'Machine Learning'}, 'ai_tasks': {'Inductive Task', 'Classification', 'Regression'}, 'implementation': {'PyTorch', 'Sklearn', 'Any', 'TensorFlow 1', 'TensorFlow 2'}}\n"
     ]
    }
   ],
   "source": [
    "print(getBTExplainerProperties(original_case))"
   ]
  },
  {
   "cell_type": "code",
   "execution_count": 12,
   "id": "b192c7ff",
   "metadata": {},
   "outputs": [],
   "source": [
    "def getLibraryExplainerProperties():\n",
    "    \"\"\"\n",
    "        This function returns all the properties for the explainers that we have in the explainer library\n",
    "    \"\"\"\n",
    "    return filter_properties(getPropertiesFormat(), {})"
   ]
  },
  {
   "cell_type": "code",
   "execution_count": 13,
   "id": "e8f2161e",
   "metadata": {},
   "outputs": [
    {
     "data": {
      "text/plain": [
       "{'explainer': {'/Images/Anchors',\n",
       "  '/Images/Counterfactuals',\n",
       "  '/Images/GradCam',\n",
       "  '/Images/GradCamTorch',\n",
       "  '/Images/IntegratedGradients',\n",
       "  '/Images/LIME',\n",
       "  '/Images/NearestNeighbours',\n",
       "  '/Misc/AIModePerformance',\n",
       "  '/Misc/AIModelPerformance',\n",
       "  '/Tabular/ALE',\n",
       "  '/Tabular/Anchors',\n",
       "  '/Tabular/DeepSHAPGlobal',\n",
       "  '/Tabular/DeepSHAPLocal',\n",
       "  '/Tabular/DicePrivate',\n",
       "  '/Tabular/DicePublic',\n",
       "  '/Tabular/DisCERN',\n",
       "  '/Tabular/IREX',\n",
       "  '/Tabular/Importance',\n",
       "  '/Tabular/KernelSHAPGlobal',\n",
       "  '/Tabular/KernelSHAPLocal',\n",
       "  '/Tabular/LIME',\n",
       "  '/Tabular/NICE',\n",
       "  '/Tabular/PertCF',\n",
       "  '/Tabular/TreeSHAPGlobal',\n",
       "  '/Tabular/TreeSHAPLocal',\n",
       "  '/Text/LIME',\n",
       "  '/Text/NLPClassifier',\n",
       "  '/Timeseries/CBRFox'},\n",
       " 'technique': {'ALE',\n",
       "  'Anchor',\n",
       "  'Data-driven',\n",
       "  'DiCE',\n",
       "  'DisCERN',\n",
       "  'Feature Relevance',\n",
       "  'Game Theory Technique',\n",
       "  'GradCam Technique',\n",
       "  'Gradient-based Technique',\n",
       "  'Influence Function',\n",
       "  'Integrated Gradient Technique',\n",
       "  'Knowledge Extraction',\n",
       "  'LIME',\n",
       "  'Optimisation Based',\n",
       "  'SHAP',\n",
       "  'Simplification',\n",
       "  'Simplification By Linear Regression',\n",
       "  'Simplification By Rule Extraction',\n",
       "  'Wachter'},\n",
       " 'dataset_type': {'Image', 'Multivariate', 'Text', 'Time series'},\n",
       " 'explanation_type': {'Anchor Explanation',\n",
       "  'Case Based Explanation',\n",
       "  'Contrasting Feature Importance Explanation',\n",
       "  'Counterfactual Explanation',\n",
       "  'Feature Influence Explanation',\n",
       "  'Neighbourhood Explanation',\n",
       "  'Saliency Map',\n",
       "  'Statistical Explanation'},\n",
       " 'concurrentness': {'Post-hoc'},\n",
       " 'portability': {'Model-agnostic', 'Model-class specific', 'Model-specific'},\n",
       " 'scope': {'Cohort', 'Global', 'Local'},\n",
       " 'target': {'Model', 'Prediction'},\n",
       " 'presentations': {'Counterfactual Explanation',\n",
       "  'Explanation',\n",
       "  'chart',\n",
       "  'computational entity',\n",
       "  'figure',\n",
       "  'figure part',\n",
       "  'heatmap',\n",
       "  'image',\n",
       "  'language entity',\n",
       "  'media',\n",
       "  'plot',\n",
       "  'table',\n",
       "  'textual entity'},\n",
       " 'computational_complexity': {'Constant time',\n",
       "  'Exponential time',\n",
       "  'Linearithmic time',\n",
       "  'Logarithmic time',\n",
       "  'Quadratic time'},\n",
       " 'ai_methods': {'Ensemble Method',\n",
       "  'Machine Learning',\n",
       "  'Natural Language Processing',\n",
       "  'Neural Networks (Computer)',\n",
       "  'Supervised Machine Learning'},\n",
       " 'ai_tasks': {'Binary Classification',\n",
       "  'Classification',\n",
       "  'Forecasting',\n",
       "  'Inductive Task',\n",
       "  'Multi-class Classification',\n",
       "  'Regression'},\n",
       " 'implementation': {'Any',\n",
       "  'LightGBM',\n",
       "  'PyTorch',\n",
       "  'Sklearn',\n",
       "  'TensorFlow 1',\n",
       "  'TensorFlow 2',\n",
       "  'XGBoost'}}"
      ]
     },
     "execution_count": 13,
     "metadata": {},
     "output_type": "execute_result"
    }
   ],
   "source": [
    "getLibraryExplainerProperties()"
   ]
  },
  {
   "cell_type": "code",
   "execution_count": 14,
   "id": "aef4e0d1",
   "metadata": {},
   "outputs": [],
   "source": [
    "def get_all_properties_from_current_explainer(explainer):\n",
    "    \"\"\"\n",
    "        This function returns the properties of the current explainer.\n",
    "        Petyo should use this function on the form shown to include the criteria explainers when the \n",
    "        explainer reuse. The properties returned by this function have to be clicked in the form.\n",
    "    \"\"\"\n",
    "    explainer_data = getPropertiesFormat()\n",
    "    explainer_list = list(explainer_data.keys())\n",
    "    result_properties, transformed_properties = {}, {}\n",
    "    if explainer in explainer_list:\n",
    "        result_properties[explainer] = explainer_data[explainer]\n",
    "    transformed_properties = filter_properties(result_properties, transformed_properties)\n",
    "                                    \n",
    "    return transformed_properties"
   ]
  },
  {
   "cell_type": "code",
   "execution_count": 15,
   "id": "b45ce72e",
   "metadata": {},
   "outputs": [
    {
     "name": "stdout",
     "output_type": "stream",
     "text": [
      "{'explainer': {'/Images/Anchors'}, 'technique': {'Simplification', 'Anchor', 'Simplification By Rule Extraction'}, 'dataset_type': {'Image'}, 'explanation_type': {'Feature Influence Explanation', 'Anchor Explanation'}, 'concurrentness': {'Post-hoc'}, 'portability': {'Model-agnostic'}, 'scope': {'Local'}, 'target': {'Prediction'}, 'presentations': {'figure', 'media', 'image'}, 'computational_complexity': {'Quadratic time'}, 'ai_methods': {'Machine Learning'}, 'ai_tasks': {'Inductive Task', 'Classification'}, 'implementation': {'Any'}}\n"
     ]
    }
   ],
   "source": [
    "print(get_all_properties_from_current_explainer('/Images/Anchors'))\n",
    "    "
   ]
  },
  {
   "cell_type": "code",
   "execution_count": null,
   "id": "b1b6e2f5",
   "metadata": {},
   "outputs": [],
   "source": []
  }
 ],
 "metadata": {
  "kernelspec": {
   "display_name": "Python 3 (ipykernel)",
   "language": "python",
   "name": "python3"
  },
  "language_info": {
   "codemirror_mode": {
    "name": "ipython",
    "version": 3
   },
   "file_extension": ".py",
   "mimetype": "text/x-python",
   "name": "python",
   "nbconvert_exporter": "python",
   "pygments_lexer": "ipython3",
   "version": "3.9.13"
  }
 },
 "nbformat": 4,
 "nbformat_minor": 5
}
