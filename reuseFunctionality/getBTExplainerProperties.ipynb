{
 "cells": [
  {
   "cell_type": "code",
   "execution_count": 1,
   "id": "d6bbb116",
   "metadata": {},
   "outputs": [],
   "source": [
    "import pandas as pd\n",
    "import json\n",
    "from utils import gettingExplainerProperties"
   ]
  },
  {
   "cell_type": "code",
   "execution_count": 3,
   "id": "68471ffd",
   "metadata": {},
   "outputs": [],
   "source": [
    "## Filter the explainers and their property values\n",
    "def filter_properties(properties_dict, filter_properties_dict):\n",
    "    for explainer, properties in properties_dict.items():\n",
    "        for prop, prop_value in properties.items(): \n",
    "            # if isinstance(prop_value, list): # isinstance() check is performed to identify if the value is a list. \n",
    "            if prop_value[1] == \"[\":\n",
    "                property_tmp_x = prop_value[:-2].replace('[','').split('], ')\n",
    "                property_tmp = [list(x.replace(\"'\",\"\").split(', ')) for x in property_tmp_x]\n",
    "                property_flatten = [x for y in property_tmp for x in y]\n",
    "                filter_properties_dict.setdefault(prop, set()).update(property_flatten)\n",
    "            elif prop_value[0] == \"[\":\n",
    "                property_tmp = prop_value.replace('[','').replace(']','').replace(\"'\",\"\").split(', ')\n",
    "                filter_properties_dict.setdefault(prop, set()).update(property_tmp) # update() method is used to add all elements of the list to the set       \n",
    "            else:\n",
    "                filter_properties_dict.setdefault(prop, set()).add(prop_value)\n",
    "\n",
    "    return filter_properties_dict"
   ]
  },
  {
   "cell_type": "code",
   "execution_count": 4,
   "id": "811b1a28",
   "metadata": {},
   "outputs": [],
   "source": [
    "# A function to get all the explainers in the BT, and to get all the properties that those explainers have\n",
    "def get_all_properties_from_current_bt(original_case, explainer_data): \n",
    "    transformed_properties = {}\n",
    "    \n",
    "    nodes = original_case[0]['data']['trees'][0]['nodes']\n",
    "    # print('nodes', nodes)   \n",
    "       \n",
    "    filtered_instances, instance_properties = {}, {}\n",
    "    # Get all the explainers in the BT \n",
    "    for id, node_data in nodes.items():\n",
    "        instance = node_data.get(\"Instance\")\n",
    "        # Extract \"Instance\" values of all IDs that start with '/'\n",
    "        if instance and instance.startswith('/'):\n",
    "            filtered_instances[id] = instance   \n",
    "    explainer_list = list(explainer_data.keys())\n",
    "    \n",
    "    # Iterate through the filtered_instances\n",
    "    for id, instance in filtered_instances.items():\n",
    "        # print(f\"ID: {id}, Instance: {instance}\")\n",
    "        # Find the explainer with a matching 'name' attribute\n",
    "        matching_explainer = next((explainer for explainer in explainer_list if explainer == instance), None)\n",
    "        #print('\\nmatching_explainer', matching_explainer)\n",
    "      \n",
    "        # Check if a matching explainer was found\n",
    "        if matching_explainer:            \n",
    "            # Store the properties in the dictionary using the instance name as the key\n",
    "            instance_properties[instance] = explainer_data[instance]\n",
    "\n",
    "    # transformed_properties = filter_explainer_properties(instance_properties)\n",
    "    transformed_properties = filter_properties(instance_properties, transformed_properties)\n",
    "                                    \n",
    "    return transformed_properties"
   ]
  },
  {
   "cell_type": "code",
   "execution_count": 5,
   "id": "ee59323a",
   "metadata": {},
   "outputs": [],
   "source": [
    "def updateDict(my_dict):\n",
    "    my_dict[\"explainer\"] = my_dict.pop(\"Explainer\")\n",
    "    my_dict[\"technique\"] = my_dict.pop(\"ExplainabilityTechniqueType\")\n",
    "    my_dict.pop(\"ExplainerDescription\")\n",
    "    my_dict[\"dataset_type\"] = my_dict.pop(\"DatasetType\")\n",
    "    my_dict[\"explanation_type\"] = my_dict.pop(\"ExplanationOutputType\")\n",
    "    my_dict.pop(\"ExplanationDescription\")\n",
    "    my_dict[\"concurrentness\"] = my_dict.pop(\"Concurrentness\")\n",
    "    my_dict[\"portability\"] = my_dict.pop(\"Portability\")\n",
    "    my_dict[\"scope\"] = my_dict.pop(\"Scope\")\n",
    "    my_dict[\"target\"] = my_dict.pop(\"TargetType\")\n",
    "    my_dict[\"presentations\"] = my_dict.pop(\"OutputType\")\n",
    "    my_dict[\"computational_complexity\"] = my_dict.pop(\"Complexity\")\n",
    "    my_dict[\"ai_methods\"] = my_dict.pop(\"AIMethodType\")\n",
    "    my_dict[\"ai_tasks\"] = my_dict.pop(\"AITaskType\")\n",
    "    my_dict[\"implementation\"] = my_dict.pop(\"Backend\")\n",
    "    my_dict.pop(\"metadata\")\n",
    "    return my_dict"
   ]
  },
  {
   "cell_type": "code",
   "execution_count": 6,
   "id": "f5bfb481",
   "metadata": {},
   "outputs": [],
   "source": [
    "def getBTExplainerProperties(original_case):\n",
    "    \"\"\"\n",
    "        This function is going to show the explainer properties that are in the current BT\n",
    "        Petyo has to use this function to click all these properties in the form\n",
    "    \"\"\"\n",
    "    properties = gettingExplainerProperties().to_dict(orient='records')\n",
    "    data_dict = {item['Explainer']: item for item in properties}\n",
    "    prop_dict = {x[0]: updateDict(x[1]) for x in data_dict.items()}\n",
    "    return get_all_properties_from_current_bt(original_case, prop_dict)"
   ]
  },
  {
   "cell_type": "code",
   "execution_count": 7,
   "id": "c6cdc8e7",
   "metadata": {},
   "outputs": [],
   "source": [
    "with open(\"test_original.json\", \"r\") as f:\n",
    "    original_case = json.load(f)\n",
    "    "
   ]
  },
  {
   "cell_type": "code",
   "execution_count": 8,
   "id": "0e99c5b2",
   "metadata": {},
   "outputs": [
    {
     "name": "stdout",
     "output_type": "stream",
     "text": [
      "{'explainer': {'/Tabular/LIME', '/Images/Anchors'}, 'technique': {'Simplification', 'Simplification By Rule Extraction', 'Anchor', 'LIME', 'Simplification By Linear Regression'}, 'dataset_type': {'Multivariate', 'Image'}, 'explanation_type': {'Anchor Explanation', 'Feature Influence Explanation'}, 'concurrentness': {'Post-hoc'}, 'portability': {'Model-agnostic'}, 'scope': {'Local'}, 'target': {'Prediction'}, 'presentations': {'media', 'image', 'figure', 'chart', 'table'}, 'computational_complexity': {'Quadratic time'}, 'ai_methods': {'Machine Learning'}, 'ai_tasks': {'Regression', 'Inductive Task', 'Classification'}, 'implementation': {'TensorFlow 1', 'TensorFlow 2', 'Any', 'Sklearn', 'PyTorch'}}\n"
     ]
    }
   ],
   "source": [
    "print(getBTExplainerProperties(original_case))"
   ]
  },
  {
   "cell_type": "code",
   "execution_count": null,
   "id": "f2f13669",
   "metadata": {},
   "outputs": [],
   "source": []
  },
  {
   "cell_type": "code",
   "execution_count": null,
   "id": "21f66746",
   "metadata": {},
   "outputs": [],
   "source": []
  }
 ],
 "metadata": {
  "kernelspec": {
   "display_name": "Python 3 (ipykernel)",
   "language": "python",
   "name": "python3"
  },
  "language_info": {
   "codemirror_mode": {
    "name": "ipython",
    "version": 3
   },
   "file_extension": ".py",
   "mimetype": "text/x-python",
   "name": "python",
   "nbconvert_exporter": "python",
   "pygments_lexer": "ipython3",
   "version": "3.9.13"
  }
 },
 "nbformat": 4,
 "nbformat_minor": 5
}
