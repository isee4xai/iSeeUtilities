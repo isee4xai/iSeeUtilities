{
 "cells": [
  {
   "cell_type": "code",
   "execution_count": 1,
   "id": "81acf774",
   "metadata": {},
   "outputs": [],
   "source": [
    "import pandas as pd\n",
    "import json\n",
    "from utils import gettingExplainerProperties"
   ]
  },
  {
   "cell_type": "code",
   "execution_count": 2,
   "id": "2f0e9aac",
   "metadata": {},
   "outputs": [],
   "source": [
    "## Filter the explainers and their property values\n",
    "def filter_properties(properties_dict, filter_properties_dict):\n",
    "    for explainer, properties in properties_dict.items():\n",
    "        for prop, prop_value in properties.items(): \n",
    "            # if isinstance(prop_value, list): # isinstance() check is performed to identify if the value is a list. \n",
    "            if prop_value[1] == \"[\":\n",
    "                property_tmp_x = prop_value[:-2].replace('[','').split('], ')\n",
    "                property_tmp = [list(x.replace(\"'\",\"\").split(', ')) for x in property_tmp_x]\n",
    "                property_flatten = [x for y in property_tmp for x in y]\n",
    "                filter_properties_dict.setdefault(prop, set()).update(property_flatten)\n",
    "            elif prop_value[0] == \"[\":\n",
    "                property_tmp = prop_value.replace('[','').replace(']','').replace(\"'\",\"\").split(', ')\n",
    "                filter_properties_dict.setdefault(prop, set()).update(property_tmp) # update() method is used to add all elements of the list to the set       \n",
    "            else:\n",
    "                filter_properties_dict.setdefault(prop, set()).add(prop_value)\n",
    "\n",
    "    return filter_properties_dict"
   ]
  },
  {
   "cell_type": "code",
   "execution_count": 3,
   "id": "acc5b16c",
   "metadata": {},
   "outputs": [],
   "source": [
    "# A function to get all the explainers in the BT, and to get all the properties that those explainers have\n",
    "def get_all_properties_from_current_bt(original_case, explainer_data): \n",
    "    transformed_properties = {}\n",
    "    \n",
    "    nodes = original_case[0]['data']['trees'][0]['nodes']\n",
    "    # print('nodes', nodes)   \n",
    "       \n",
    "    filtered_instances, instance_properties = {}, {}\n",
    "    # Get all the explainers in the BT \n",
    "    for id, node_data in nodes.items():\n",
    "        instance = node_data.get(\"Instance\")\n",
    "        # Extract \"Instance\" values of all IDs that start with '/'\n",
    "        if instance and instance.startswith('/'):\n",
    "            filtered_instances[id] = instance   \n",
    "    explainer_list = list(explainer_data.keys())\n",
    "    \n",
    "    # Iterate through the filtered_instances\n",
    "    for id, instance in filtered_instances.items():\n",
    "        # print(f\"ID: {id}, Instance: {instance}\")\n",
    "        # Find the explainer with a matching 'name' attribute\n",
    "        matching_explainer = next((explainer for explainer in explainer_list if explainer == instance), None)\n",
    "        #print('\\nmatching_explainer', matching_explainer)\n",
    "      \n",
    "        # Check if a matching explainer was found\n",
    "        if matching_explainer:            \n",
    "            # Store the properties in the dictionary using the instance name as the key\n",
    "            instance_properties[instance] = explainer_data[instance]\n",
    "\n",
    "    # transformed_properties = filter_explainer_properties(instance_properties)\n",
    "    transformed_properties = filter_properties(instance_properties, transformed_properties)\n",
    "                                    \n",
    "    return transformed_properties"
   ]
  },
  {
   "cell_type": "code",
   "execution_count": 4,
   "id": "41fae4dc",
   "metadata": {},
   "outputs": [],
   "source": [
    "def updateDict(my_dict):\n",
    "    my_dict[\"explainer\"] = my_dict.pop(\"Explainer\")\n",
    "    my_dict[\"technique\"] = my_dict.pop(\"ExplainabilityTechniqueType\")\n",
    "    my_dict.pop(\"ExplainerDescription\")\n",
    "    my_dict[\"dataset_type\"] = my_dict.pop(\"DatasetType\")\n",
    "    my_dict[\"explanation_type\"] = my_dict.pop(\"ExplanationOutputType\")\n",
    "    my_dict.pop(\"ExplanationDescription\")\n",
    "    my_dict[\"concurrentness\"] = my_dict.pop(\"Concurrentness\")\n",
    "    my_dict[\"portability\"] = my_dict.pop(\"Portability\")\n",
    "    my_dict[\"scope\"] = my_dict.pop(\"Scope\")\n",
    "    my_dict[\"target\"] = my_dict.pop(\"TargetType\")\n",
    "    my_dict[\"presentations\"] = my_dict.pop(\"OutputType\")\n",
    "    my_dict[\"computational_complexity\"] = my_dict.pop(\"Complexity\")\n",
    "    my_dict[\"ai_methods\"] = my_dict.pop(\"AIMethodType\")\n",
    "    my_dict[\"ai_tasks\"] = my_dict.pop(\"AITaskType\")\n",
    "    my_dict[\"implementation\"] = my_dict.pop(\"Backend\")\n",
    "    my_dict.pop(\"metadata\")\n",
    "    return my_dict"
   ]
  },
  {
   "cell_type": "code",
   "execution_count": 5,
   "id": "9cf8ef46",
   "metadata": {},
   "outputs": [],
   "source": [
    "def getPropertiesFormat():\n",
    "    properties = gettingExplainerProperties().to_dict(orient='records')\n",
    "    data_dict = {item['Explainer']: item for item in properties}\n",
    "    prop_dict = {x[0]: updateDict(x[1]) for x in data_dict.items()}\n",
    "    return prop_dict"
   ]
  },
  {
   "cell_type": "code",
   "execution_count": 6,
   "id": "47479866",
   "metadata": {},
   "outputs": [],
   "source": [
    "def getBTExplainerProperties(original_case):\n",
    "    \"\"\"\n",
    "        This function is going to show the explainer properties that are in the current BT\n",
    "        Petyo has to use this function to click all these properties in the form\n",
    "    \"\"\"\n",
    "    \n",
    "    return get_all_properties_from_current_bt(original_case, getPropertiesFormat())"
   ]
  },
  {
   "cell_type": "code",
   "execution_count": 7,
   "id": "9fb1f0a9",
   "metadata": {},
   "outputs": [],
   "source": [
    "with open(\"test_original.json\", \"r\") as f:\n",
    "    original_case = json.load(f)\n",
    "    "
   ]
  },
  {
   "cell_type": "code",
   "execution_count": 8,
   "id": "b06981ac",
   "metadata": {},
   "outputs": [
    {
     "name": "stdout",
     "output_type": "stream",
     "text": [
      "{'explainer': {'/Tabular/LIME', '/Images/Anchors'}, 'technique': {'LIME', 'Simplification By Linear Regression', 'Anchor', 'Simplification By Rule Extraction', 'Simplification'}, 'dataset_type': {'Image', 'Multivariate'}, 'explanation_type': {'Anchor Explanation', 'Feature Influence Explanation'}, 'concurrentness': {'Post-hoc'}, 'portability': {'Model-agnostic'}, 'scope': {'Local'}, 'target': {'Prediction'}, 'presentations': {'figure', 'image', 'table', 'media', 'chart'}, 'computational_complexity': {'Quadratic time'}, 'ai_methods': {'Machine Learning'}, 'ai_tasks': {'Inductive Task', 'Regression', 'Classification'}, 'implementation': {'Sklearn', 'TensorFlow 2', 'TensorFlow 1', 'PyTorch', 'Any'}}\n"
     ]
    }
   ],
   "source": [
    "print(getBTExplainerProperties(original_case))"
   ]
  },
  {
   "cell_type": "code",
   "execution_count": 9,
   "id": "8229d138",
   "metadata": {},
   "outputs": [],
   "source": [
    "def getLibraryExplainerProperties():\n",
    "    \"\"\"\n",
    "        This function returns all the properties for the explainers that we have in the explainer library\n",
    "    \"\"\"\n",
    "    return filter_properties(getPropertiesFormat(), {})"
   ]
  },
  {
   "cell_type": "code",
   "execution_count": 10,
   "id": "e8f2161e",
   "metadata": {},
   "outputs": [
    {
     "data": {
      "text/plain": [
       "{'explainer': {'/Images/Anchors',\n",
       "  '/Images/Counterfactuals',\n",
       "  '/Images/GradCam',\n",
       "  '/Images/GradCamTorch',\n",
       "  '/Images/IntegratedGradients',\n",
       "  '/Images/LIME',\n",
       "  '/Images/NearestNeighbours',\n",
       "  '/Misc/AIModePerformance',\n",
       "  '/Tabular/ALE',\n",
       "  '/Tabular/Anchors',\n",
       "  '/Tabular/DeepSHAPGlobal',\n",
       "  '/Tabular/DeepSHAPLocal',\n",
       "  '/Tabular/DicePrivate',\n",
       "  '/Tabular/DicePublic',\n",
       "  '/Tabular/DisCERN',\n",
       "  '/Tabular/IREX',\n",
       "  '/Tabular/Importance',\n",
       "  '/Tabular/KernelSHAPGlobal',\n",
       "  '/Tabular/KernelSHAPLocal',\n",
       "  '/Tabular/LIME',\n",
       "  '/Tabular/NICE',\n",
       "  '/Tabular/TreeSHAPGlobal',\n",
       "  '/Tabular/TreeSHAPLocal',\n",
       "  '/Text/LIME',\n",
       "  '/Text/NLPClassifier',\n",
       "  '/Timeseries/CBRFox'},\n",
       " 'technique': {'ALE',\n",
       "  'Anchor',\n",
       "  'Data-driven',\n",
       "  'DiCE',\n",
       "  'DisCERN',\n",
       "  'Feature Relevance',\n",
       "  'Game Theory Technique',\n",
       "  'GradCam Technique',\n",
       "  'Gradient-based Technique',\n",
       "  'Influence Function',\n",
       "  'Integrated Gradient Technique',\n",
       "  'Knowledge Extraction',\n",
       "  'LIME',\n",
       "  'Optimisation Based',\n",
       "  'SHAP',\n",
       "  'Simplification',\n",
       "  'Simplification By Linear Regression',\n",
       "  'Simplification By Rule Extraction',\n",
       "  'Wachter'},\n",
       " 'dataset_type': {'Image', 'Multivariate', 'Text', 'Time series'},\n",
       " 'explanation_type': {'Anchor Explanation',\n",
       "  'Case Based Explanation',\n",
       "  'Contrasting Feature Importance Explanation',\n",
       "  'Counterfactual Explanation',\n",
       "  'Feature Influence Explanation',\n",
       "  'Neighbourhood Explanation',\n",
       "  'Saliency Map',\n",
       "  'Statistical Explanation'},\n",
       " 'concurrentness': {'Post-hoc'},\n",
       " 'portability': {'Model-agnostic', 'Model-class specific', 'Model-specific'},\n",
       " 'scope': {'Global', 'Local'},\n",
       " 'target': {'Model', 'Prediction'},\n",
       " 'presentations': {'chart',\n",
       "  'figure',\n",
       "  'figure part',\n",
       "  'heatmap',\n",
       "  'image',\n",
       "  'language entity',\n",
       "  'media',\n",
       "  'plot',\n",
       "  'table',\n",
       "  'textual entity'},\n",
       " 'computational_complexity': {'Constant time',\n",
       "  'Exponential time',\n",
       "  'Linearithmic time',\n",
       "  'Quadratic time'},\n",
       " 'ai_methods': {'Ensemble Method',\n",
       "  'Machine Learning',\n",
       "  'Natural Language Processing',\n",
       "  'Neural Networks (Computer)',\n",
       "  'Supervised Machine Learning'},\n",
       " 'ai_tasks': {'Classification',\n",
       "  'Forecasting',\n",
       "  'Inductive Task',\n",
       "  'Multi-class Classification',\n",
       "  'Regression'},\n",
       " 'implementation': {'Any',\n",
       "  'LightGBM',\n",
       "  'PyTorch',\n",
       "  'Sklearn',\n",
       "  'TensorFlow 1',\n",
       "  'TensorFlow 2',\n",
       "  'XGBoost'}}"
      ]
     },
     "execution_count": 10,
     "metadata": {},
     "output_type": "execute_result"
    }
   ],
   "source": [
    "getLibraryExplainerProperties()"
   ]
  },
  {
   "cell_type": "code",
   "execution_count": 11,
   "id": "4da9f29f",
   "metadata": {},
   "outputs": [],
   "source": [
    "def get_all_properties_from_current_explainer(explainer, explainer_data):\n",
    "    \"\"\"\n",
    "        This function returns the properties of the current explainer.\n",
    "        Petyo should use this function on the form shown to include the criteria explainers when the \n",
    "        explainer reuse. The properties returned by this function have to be clicked in the form.\n",
    "    \"\"\"\n",
    "    explainer_list = list(explainer_data.keys())\n",
    "    result_properties, transformed_properties = {}, {}\n",
    "    if explainer in explainer_list:\n",
    "        result_properties[explainer] = explainer_data[explainer]\n",
    "    transformed_properties = filter_properties(result_properties, transformed_properties)\n",
    "                                    \n",
    "    return transformed_properties"
   ]
  },
  {
   "cell_type": "code",
   "execution_count": 12,
   "id": "fd6ccb30",
   "metadata": {},
   "outputs": [
    {
     "name": "stdout",
     "output_type": "stream",
     "text": [
      "{'explainer': {'/Images/Anchors'}, 'technique': {'Simplification', 'Simplification By Rule Extraction', 'Anchor'}, 'dataset_type': {'Image'}, 'explanation_type': {'Anchor Explanation', 'Feature Influence Explanation'}, 'concurrentness': {'Post-hoc'}, 'portability': {'Model-agnostic'}, 'scope': {'Local'}, 'target': {'Prediction'}, 'presentations': {'figure', 'media', 'image'}, 'computational_complexity': {'Quadratic time'}, 'ai_methods': {'Machine Learning'}, 'ai_tasks': {'Inductive Task', 'Classification'}, 'implementation': {'Any'}}\n"
     ]
    }
   ],
   "source": [
    "print(get_all_properties_from_current_explainer('/Images/Anchors', getPropertiesFormat()))\n",
    "    "
   ]
  },
  {
   "cell_type": "code",
   "execution_count": null,
   "id": "0de77e15",
   "metadata": {},
   "outputs": [],
   "source": []
  }
 ],
 "metadata": {
  "kernelspec": {
   "display_name": "Python 3 (ipykernel)",
   "language": "python",
   "name": "python3"
  },
  "language_info": {
   "codemirror_mode": {
    "name": "ipython",
    "version": 3
   },
   "file_extension": ".py",
   "mimetype": "text/x-python",
   "name": "python",
   "nbconvert_exporter": "python",
   "pygments_lexer": "ipython3",
   "version": "3.9.13"
  }
 },
 "nbformat": 4,
 "nbformat_minor": 5
}
