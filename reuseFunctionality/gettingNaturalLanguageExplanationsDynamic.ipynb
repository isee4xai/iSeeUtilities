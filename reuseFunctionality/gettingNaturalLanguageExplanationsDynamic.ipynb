{
 "cells": [
  {
   "cell_type": "code",
   "execution_count": 1,
   "id": "f4d89e7e",
   "metadata": {},
   "outputs": [],
   "source": [
    "import pandas as pd\n",
    "from enum import Enum\n",
    "import os\n",
    "\n",
    "#!pip install ipynb\n",
    "#from ipynb.fs.full.explainerSimilarityDynamicEfficient import gettingExplainerProperties"
   ]
  },
  {
   "cell_type": "code",
   "execution_count": 2,
   "id": "de46dba0",
   "metadata": {},
   "outputs": [],
   "source": [
    "PROPERTIES = {}\n",
    "PROPERTIES['Explainer'] = 0\n",
    "PROPERTIES['ExplainerDescription'] = 1\n",
    "#PROPERTIES['ExplainabilityTechnique'] = 2\n",
    "PROPERTIES['ExplainabilityTechniqueType'] = 2\n",
    "PROPERTIES['DatasetType'] = 3\n",
    "PROPERTIES['ExplanationOutputType'] = 4\n",
    "PROPERTIES['ExplanationDescription'] = 5\n",
    "PROPERTIES['Concurrentness'] = 6\n",
    "PROPERTIES['Portability'] = 7\n",
    "PROPERTIES['Scope'] = 8\n",
    "PROPERTIES['TargetType'] = 9\n",
    "PROPERTIES['OutputType'] = 10\n",
    "PROPERTIES['Complexity'] = 11\n",
    "PROPERTIES['AIMethodType'] = 12\n",
    "PROPERTIES['AITaskType'] = 13\n",
    "PROPERTIES['Backend'] = 14\n",
    "PROPERTIES['metadata'] = 15\n",
    "\n",
    "SIMPLE_PROPERTIES = [PROPERTIES['DatasetType'], PROPERTIES['Concurrentness'], PROPERTIES['Scope'], PROPERTIES['Portability'], PROPERTIES['TargetType'], PROPERTIES['Complexity']]\n",
    "COMPLEX_PROPERTIES = [PROPERTIES['ExplainabilityTechniqueType'], PROPERTIES['ExplanationOutputType']]\n",
    "SIMPLE_MULT_PROPERTIES = [PROPERTIES['Backend']]\n",
    "COMPLEX_MULT_PROPERTIES = [PROPERTIES['OutputType'], PROPERTIES['AIMethodType'], PROPERTIES['AITaskType']]"
   ]
  },
  {
   "cell_type": "code",
   "execution_count": 3,
   "id": "08a64933",
   "metadata": {},
   "outputs": [],
   "source": [
    "PROPERTIES_FILE = \"properties.csv\""
   ]
  },
  {
   "cell_type": "code",
   "execution_count": 4,
   "id": "813126dc",
   "metadata": {},
   "outputs": [],
   "source": [
    "def gettingExplainerProperties():\n",
    "    \"\"\"\n",
    "        Function that retrieves all the explainer properties\n",
    "    \"\"\"\n",
    "    df_fo = pd.read_csv(PROPERTIES_FILE, delimiter=',')\n",
    "    return df_fo"
   ]
  },
  {
   "cell_type": "code",
   "execution_count": 5,
   "id": "4c5c046b",
   "metadata": {},
   "outputs": [],
   "source": [
    "formatted_df = gettingExplainerProperties()"
   ]
  },
  {
   "cell_type": "markdown",
   "id": "c5e3fdd6",
   "metadata": {},
   "source": [
    "### Natural language explanations about similarity"
   ]
  },
  {
   "cell_type": "markdown",
   "id": "d9cb4faa",
   "metadata": {},
   "source": [
    "#### Getting similarities in natural language"
   ]
  },
  {
   "cell_type": "code",
   "execution_count": 6,
   "id": "899305c5",
   "metadata": {},
   "outputs": [],
   "source": [
    "def getRow(df, explainer):\n",
    "    return df.loc[df['Explainer'] == explainer].values.flatten().tolist()"
   ]
  },
  {
   "cell_type": "code",
   "execution_count": 7,
   "id": "83089d03",
   "metadata": {},
   "outputs": [],
   "source": [
    "def getSimNL_simple_attr(attribute, e1_value, e2_value):\n",
    "    return"
   ]
  },
  {
   "cell_type": "code",
   "execution_count": 8,
   "id": "da878a25",
   "metadata": {},
   "outputs": [],
   "source": [
    "def getExplanationComplex(explainer1, explainer2, explanation_original, explanationToInclude, isBackend=False):\n",
    "    \n",
    "    explainer1_atts = explainer1.replace('[','').replace(']','').replace(\"'\",\"\").split(', ')\n",
    "    explainer2_atts = explainer2.replace('[','').replace(']','').replace(\"'\",\"\").split(', ')\n",
    "        \n",
    "    common_props = [x for x in explainer1_atts if x in explainer2_atts]\n",
    "    common_props_len = len(common_props)\n",
    "    if common_props_len > 0:\n",
    "        if isBackend==False:\n",
    "            explanation_original = explanation_original + explanationToInclude + common_props[0] + \", \"\n",
    "        else:\n",
    "            explanation_original = explanation_original + explanationToInclude + ','.join(common_props) + \", \"\n",
    "    return explanation_original"
   ]
  },
  {
   "cell_type": "code",
   "execution_count": 9,
   "id": "5323c335",
   "metadata": {},
   "outputs": [],
   "source": [
    "def getExplanationComplexArray(explainer1, explainer2):\n",
    "    explainer1_tmp_x = explainer1[:-2].replace('[','').split('], ')\n",
    "    explainer1_atts = [list(x.replace(\"'\",\"\").split(', ')) for x in explainer1_tmp_x]\n",
    "\n",
    "    explainer2_tmp_x = explainer2[:-2].replace('[','').split('], ')\n",
    "    explainer2_atts = [list(x.replace(\"'\",\"\").split(', ')) for x in explainer2_tmp_x]\n",
    "    \n",
    "    attributes_list = list()\n",
    "    for attrib_list1 in explainer1_atts:\n",
    "        for attrib_list2 in explainer2_atts:\n",
    "            common_props = [x for x in attrib_list1 if x in attrib_list2]\n",
    "            common_props_len = len(common_props)\n",
    "            if common_props_len > 0:\n",
    "                attributes_list.append(common_props[0])\n",
    "                \n",
    "    return list(set(attributes_list))"
   ]
  },
  {
   "cell_type": "code",
   "execution_count": 19,
   "id": "191568fa",
   "metadata": {},
   "outputs": [],
   "source": [
    "def getSimNL(formatted_df, explainer1, explainer2):\n",
    "    explanation = \"\"\n",
    "    explainer1_atts = getRow(formatted_df, explainer1)\n",
    "    explainer2_atts = getRow(formatted_df, explainer2)\n",
    "    \n",
    "    print(explainer1_atts)\n",
    "    \n",
    "    # explanation about why they are similar\n",
    "    explanation = \"They are similar because \"\n",
    "    if explainer1_atts[PROPERTIES['DatasetType']] == explainer2_atts[PROPERTIES['DatasetType']]:\n",
    "        explanation = explanation + \"they can be applied to the same dataset type: \" + explainer2_atts[PROPERTIES['DatasetType']] + \" data, \"\n",
    "    if explainer1_atts[PROPERTIES['Concurrentness']] == explainer2_atts[PROPERTIES['Concurrentness']]:\n",
    "        explanation = explanation + \"they have the same concurrentness: \" + explainer2_atts[PROPERTIES['Concurrentness']] + \", \"\n",
    "    if explainer1_atts[PROPERTIES['Scope']] == explainer2_atts[PROPERTIES['Scope']]:\n",
    "        explanation = explanation + \"they have the same scope: \" + explainer2_atts[PROPERTIES['Scope']] + \", \"\n",
    "    if explainer1_atts[PROPERTIES['Portability']] == explainer2_atts[PROPERTIES['Portability']]:\n",
    "        explanation = explanation + \"they have the same portability: \" + explainer2_atts[PROPERTIES['Portability']] + \", \"\n",
    "    if explainer1_atts[PROPERTIES['TargetType']] == explainer2_atts[PROPERTIES['TargetType']]:\n",
    "        explanation = explanation + \"they have the same target type: \" + explainer2_atts[PROPERTIES['TargetType']] + \", \"\n",
    "    if explainer1_atts[PROPERTIES['Complexity']] == explainer2_atts[PROPERTIES['Complexity']]:\n",
    "        explanation = explanation + \"they have the same computational complexity: \" + explainer2_atts[PROPERTIES['Complexity']] + \", \"\n",
    "\n",
    "    # for the complex ones, if they share one in the array, show\n",
    "    # if they share more than one, show the most deep (the one in the beginning of the array)\n",
    "    explanationToInclude = \"they are the same explainability technique type: \"\n",
    "    explanation = getExplanationComplex(explainer1_atts[PROPERTIES['ExplainabilityTechniqueType']], explainer2_atts[PROPERTIES['ExplainabilityTechniqueType']], explanation, explanationToInclude)\n",
    "    explanationToInclude = \"they show the same explanation type: \"\n",
    "    explanation = getExplanationComplex(explainer1_atts[PROPERTIES['ExplanationOutputType']], explainer2_atts[PROPERTIES['ExplanationOutputType']], explanation, explanationToInclude)\n",
    "    explanationToInclude = \"they use the same backend: \"\n",
    "    explanation = getExplanationComplex(explainer1_atts[PROPERTIES['Backend']], explainer2_atts[PROPERTIES['Backend']], explanation, explanationToInclude, True)\n",
    "\n",
    "\n",
    "    attributes_list = getExplanationComplexArray(explainer1_atts[PROPERTIES['OutputType']], explainer2_atts[PROPERTIES['OutputType']])\n",
    "    if len(attributes_list) > 0:\n",
    "        explanation = explanation + \"they show the explanation with the same output type: \" + ','.join(attributes_list) + \", \"\n",
    "    \n",
    "    attributes_list = getExplanationComplexArray(explainer1_atts[PROPERTIES['AIMethodType']], explainer2_atts[PROPERTIES['AIMethodType']])\n",
    "    if len(attributes_list) > 0:\n",
    "        explanation = explanation + \"they are applicable to the same AI method type: \" + ','.join(attributes_list) + \", \"\n",
    "    \n",
    "    attributes_list = getExplanationComplexArray(explainer1_atts[PROPERTIES['AITaskType']], explainer2_atts[PROPERTIES['AITaskType']])\n",
    "    if len(attributes_list) > 0:\n",
    "        explanation = explanation + \"and they are applicable to the same AI task type: \" + ','.join(attributes_list) + \".\"\n",
    "    \n",
    "    \n",
    "    return explanation"
   ]
  },
  {
   "cell_type": "code",
   "execution_count": 20,
   "id": "2a05a087",
   "metadata": {},
   "outputs": [],
   "source": [
    "#print(getRow(formatted_df, \"/Images/LIME\"))"
   ]
  },
  {
   "cell_type": "code",
   "execution_count": 21,
   "id": "e33aacc7",
   "metadata": {},
   "outputs": [],
   "source": [
    "#getSimNL(formatted_df, matrix, \"/Tabular/TreeSHAPGlobal\", \"/Tabular/ALE\")"
   ]
  },
  {
   "cell_type": "code",
   "execution_count": 22,
   "id": "b28c4613",
   "metadata": {},
   "outputs": [
    {
     "name": "stdout",
     "output_type": "stream",
     "text": [
      "['/Tabular/DicePrivate', \"Diverse Counterfactual Explanations (DiCE)  private method generates counterfactuals without training data. However, it requires the format and ranges of the data to be specified when uploading the model. This method is currently supported for TensorFlow models only.  Accepts 3 arguments: the 'id' string, the 'instance', and the 'params' dictionary (optional) containing the configuration parameters of the explainer. These arguments are described below.\", \"['DiCE', 'Optimisation Based']\", 'Multivariate', \"['Counterfactual Explanation']\", 'Explanation contains a table with the original instance compared against a generated couterfactual(s).', 'Post-hoc', 'Model-agnostic', 'Local', 'Prediction', \"[['table', 'figure', 'media']]\", 'Quadratic time', \"[['Supervised Machine Learning', 'Machine Learning']]\", \"[['Classification', 'Inductive Task']]\", \"['TensorFlow 1', 'TensorFlow 2']\", '\"{\\\\n    \\\\\"supportsAPI\\\\\": false,\\\\n    \\\\\"needsData\\\\\": false,\\\\n    \\\\\"requiresAttributes\\\\\": [\\\\n        {\\\\n            \\\\\"features\\\\\": \\\\\"Dictionary with feature names as keys and arrays containing the ranges of continuous features, or strings with the categories for categorical features.\\\\\"\\\\n        }\\\\n    ]\\\\n}\"']\n"
     ]
    },
    {
     "data": {
      "text/plain": [
       "'They are similar because they can be applied to the same dataset type: Multivariate data, they have the same concurrentness: Post-hoc, they have the same scope: Local, they have the same portability: Model-agnostic, they have the same target type: Prediction, they have the same computational complexity: Quadratic time, they are the same explainability technique type: DiCE, they show the same explanation type: Counterfactual Explanation, they use the same backend: TensorFlow 1,TensorFlow 2, they show the explanation with the same output type: table, they are applicable to the same AI method type: Supervised Machine Learning, and they are applicable to the same AI task type: Classification.'"
      ]
     },
     "execution_count": 22,
     "metadata": {},
     "output_type": "execute_result"
    }
   ],
   "source": [
    "getSimNL(formatted_df, \"/Tabular/DicePrivate\", \"/Tabular/DicePublic\")"
   ]
  },
  {
   "cell_type": "code",
   "execution_count": null,
   "id": "8cfbff93",
   "metadata": {},
   "outputs": [],
   "source": []
  },
  {
   "cell_type": "code",
   "execution_count": null,
   "id": "72886333",
   "metadata": {},
   "outputs": [],
   "source": []
  }
 ],
 "metadata": {
  "kernelspec": {
   "display_name": "Python 3 (ipykernel)",
   "language": "python",
   "name": "python3"
  },
  "language_info": {
   "codemirror_mode": {
    "name": "ipython",
    "version": 3
   },
   "file_extension": ".py",
   "mimetype": "text/x-python",
   "name": "python",
   "nbconvert_exporter": "python",
   "pygments_lexer": "ipython3",
   "version": "3.9.13"
  }
 },
 "nbformat": 4,
 "nbformat_minor": 5
}
