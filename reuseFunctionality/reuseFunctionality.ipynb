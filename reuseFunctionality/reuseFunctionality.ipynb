{
 "cells": [
  {
   "cell_type": "code",
   "execution_count": 12,
   "metadata": {
    "colab": {
     "base_uri": "https://localhost:8080/"
    },
    "id": "SdU8NRXSpK5x",
    "outputId": "68ca2302-ad74-4eeb-f3d8-448887804572"
   },
   "outputs": [
    {
     "name": "stdout",
     "output_type": "stream",
     "text": [
      "Defaulting to user installation because normal site-packages is not writeable\n",
      "Requirement already satisfied: edist in c:\\users\\marta\\appdata\\roaming\\python\\python39\\site-packages (1.2.0)\n",
      "Requirement already satisfied: scikit-learn in c:\\programdata\\anaconda3\\lib\\site-packages (from edist) (1.0.2)\n",
      "Requirement already satisfied: proto-dist-ml in c:\\users\\marta\\appdata\\roaming\\python\\python39\\site-packages (from edist) (1.0.1)\n",
      "Requirement already satisfied: numpy in c:\\programdata\\anaconda3\\lib\\site-packages (from edist) (1.21.5)\n",
      "Requirement already satisfied: scipy in c:\\programdata\\anaconda3\\lib\\site-packages (from edist) (1.9.1)\n",
      "Requirement already satisfied: threadpoolctl>=2.0.0 in c:\\programdata\\anaconda3\\lib\\site-packages (from scikit-learn->edist) (2.2.0)\n",
      "Requirement already satisfied: joblib>=0.11 in c:\\programdata\\anaconda3\\lib\\site-packages (from scikit-learn->edist) (1.1.0)\n"
     ]
    }
   ],
   "source": [
    "# Libraries here\n",
    "import pandas as pd\n",
    "import numpy as np\n",
    "import requests\n",
    "import json\n",
    "\n",
    "!pip install edist\n",
    "import edist.ted as ted"
   ]
  },
  {
   "cell_type": "code",
   "execution_count": 13,
   "metadata": {
    "id": "FbD_vnQprqf8"
   },
   "outputs": [],
   "source": [
    "insertion_cost = 1.\n",
    "deletion_cost = 1.\n",
    "leave_change = 1. \n",
    "default_cost = 100"
   ]
  },
  {
   "cell_type": "code",
   "execution_count": 14,
   "metadata": {
    "colab": {
     "base_uri": "https://localhost:8080/",
     "height": 381
    },
    "id": "DSMc8Ss0pZLv",
    "outputId": "8431f2fd-105d-4863-cf65-195fa16ee8e9"
   },
   "outputs": [
    {
     "name": "stdout",
     "output_type": "stream",
     "text": [
      "[{\"name\":\"Tree\",\"score__\":7,\"usecase\":\"6426a68da3402ba28c44a7c0\",\"persona\":\"6426a7eca3402ba28c44a7d0\",\"intent\":\"intent-130431\",\"description\":\"\",\"path\":\"b3projects-b22b93e4-0449-41fa-8876-48551541154a\",\"data\":{\"version\":\"0.1.0\",\"scope\":\"project\",\"selectedTree\":\"33def3ec-31a8-47c1-856c-7fd724718df2\",\"trees\":[{\"version\":\"0.1.0\",\"scope\":\"tree\",\"id\":\"33def3ec-31a8-47c1-856c-7fd724718df2\",\"Instance\":\"Explanation Experience\",\"description\":\"\",\"root\":\"546f5cee-68b0-4b90-85be-786b9957d03a\",\"properties\":{},\"nodes\":{\"5112868d-f790-4665-ab3e-18a36a857363\":{\"id\":\"5112868d-f790-4665-ab3e-18a36a857363\",\"Concept\":\"Sequence\",\"Instance\":\"Sequence\",\"description\":\"\",\"properties\":{},\"display\":{\"x\":-60,\"y\":168},\"firstChild\":{\"Id\":\"85b9b22e-1b0a-4a9b-81a9-83952d27271a\",\"Next\":{\"Id\":\"5829d6db-5011-4ad8-846a-ab8452c6be46\",\"Next\":null}}},\"546f5cee-68b0-4b90-85be-786b9957d03a\":{\"id\":\"546f5cee-68b0-4b90-85be-786b9957d03a\",\"Concept\":\"Priority\",\"Instance\":\"Priority\",\"description\":\"\",\"properties\":{},\"display\":{\"x\":-60,\"y\":84},\"firstChild\":{\"Id\":\"5112868d-f790-4665-ab3e-18a36a857363\",\"Next\":null}},\"85b9b22e-1b0a-4a9b-81a9-83952d27271a\":{\"id\":\"85b9b22e-1b0a-4a9b-81a9-83952d27271a\",\"Concept\":\"User Question\",\"Instance\":\"User Question\",\"description\":\"\",\"properties\":{},\"display\":{\"x\":-192,\"y\":324},\"params\":{\"Question\":{\"key\":\"Question\",\"value\":\"Why does the system predict RDR for image X?\"}}},\"5829d6db-5011-4ad8-846a-ab8452c6be46\":{\"id\":\"5829d6db-5011-4ad8-846a-ab8452c6be46\",\"Concept\":\"Explanation Method\",\"Instance\":\"/Images/IntegratedGradients\",\"description\":\"\",\"properties\":{},\"display\":{\"x\":60,\"y\":324},\"params\":{\"output_classes\":{\"key\":\"output_classes\",\"value\":\"[ ]\",\"default\":\"[ ]\",\"range\":[null,null],\"required\":\"false\",\"description\":\"Array of integers representing the classes to be explained. Defaults to class 1.\",\"type\":\"text\"},\"top_classes\":{\"key\":\"top_classes\",\"value\":1,\"default\":1,\"range\":[null,null],\"required\":\"false\",\"description\":\"Integer representing the number of classes with the highest prediction probability to be explained. Overrides 'output_classes' if provided.\",\"type\":\"number\"},\"num_features\":{\"key\":\"num_features\",\"value\":10,\"default\":10,\"range\":[null,null],\"required\":\"false\",\"description\":\"Integer representing the maximum number of features to be included in the explanation.\",\"type\":\"number\"},\"png_width\":{\"key\":\"png_width\",\"value\":1000,\"default\":1000,\"range\":[null,null],\"required\":\"false\",\"description\":\"Width (in pixels) of the png image containing the explanation.\",\"type\":\"number\"},\"png_height\":{\"key\":\"png_height\",\"value\":400,\"default\":400,\"range\":[null,null],\"required\":\"false\",\"description\":\"Height (in pixels) of the png image containing the explanation.\",\"type\":\"number\"}}}},\"display\":{\"camera_x\":937,\"camera_y\":472,\"camera_z\":1,\"x\":-60,\"y\":0}}],\"custom_nodes\":[]}},{\"name\":\"Tree\",\"score__\":7,\"usecase\":\"6426a68da3402ba28c44a7c0\",\"persona\":\"6426a7eca3402ba28c44a7d0\",\"intent\":\"intent-130431\",\"description\":\"\",\"path\":\"b3projects-f04cae12-d302-4b48-89e9-5c733bc79604\",\"data\":{\"version\":\"0.1.0\",\"scope\":\"project\",\"selectedTree\":\"2a1e79cf-2ccd-47d7-96a3-768047304a85\",\"trees\":[{\"version\":\"0.1.0\",\"scope\":\"tree\",\"id\":\"2a1e79cf-2ccd-47d7-96a3-768047304a85\",\"Instance\":\"Explanation Experience\",\"description\":\"\",\"root\":\"89d03d85-d7dd-4dfd-be74-1d992d5bce56\",\"properties\":{},\"nodes\":{\"eccbcfc3-74ba-48b0-8c8a-fd8790f0300c\":{\"id\":\"eccbcfc3-74ba-48b0-8c8a-fd8790f0300c\",\"Concept\":\"Sequence\",\"Instance\":\"Sequence\",\"description\":\"\",\"properties\":{},\"display\":{\"x\":-192,\"y\":108},\"firstChild\":{\"Id\":\"7e6f46df-dd97-47dd-8c60-9e6d3f479414\",\"Next\":{\"Id\":\"abc690dc-1c8e-4e45-8488-8c9fcbb4bb2b\",\"Next\":null}}},\"89d03d85-d7dd-4dfd-be74-1d992d5bce56\":{\"id\":\"89d03d85-d7dd-4dfd-be74-1d992d5bce56\",\"Concept\":\"Priority\",\"Instance\":\"Priority\",\"description\":\"\",\"properties\":{},\"display\":{\"x\":-192,\"y\":0},\"firstChild\":{\"Id\":\"eccbcfc3-74ba-48b0-8c8a-fd8790f0300c\",\"Next\":null}},\"7e6f46df-dd97-47dd-8c60-9e6d3f479414\":{\"id\":\"7e6f46df-dd97-47dd-8c60-9e6d3f479414\",\"Concept\":\"User Question\",\"Instance\":\"User Question\",\"description\":\"\",\"properties\":{},\"display\":{\"x\":-324,\"y\":288},\"params\":{\"Question\":{\"key\":\"Question\",\"value\":\"What patterns contributed to the system prediction?\"}}},\"abc690dc-1c8e-4e45-8488-8c9fcbb4bb2b\":{\"id\":\"abc690dc-1c8e-4e45-8488-8c9fcbb4bb2b\",\"Concept\":\"Variant\",\"Instance\":\"Variant\",\"description\":\"\",\"properties\":{},\"display\":{\"x\":0,\"y\":264},\"firstChild\":{\"Id\":\"98489712-951e-4685-8883-76c2bcd9e634\",\"Next\":{\"Id\":\"fad46100-dcf8-42fe-8244-39e383098d32\",\"Next\":null}}},\"98489712-951e-4685-8883-76c2bcd9e634\":{\"id\":\"98489712-951e-4685-8883-76c2bcd9e634\",\"Concept\":\"Explanation Method\",\"Instance\":\"/Images/IntegratedGradients\",\"description\":\"\",\"properties\":{},\"display\":{\"x\":-132,\"y\":372},\"params\":{\"target_class\":{\"key\":\"target_class\",\"value\":null,\"default\":null,\"range\":[null,null],\"required\":\"false\",\"description\":\"Integer denoting the desired class for the computation of the attributions. Ignore for regression models. Defaults to the predicted class of the instance.\",\"type\":\"number\"},\"method\":{\"key\":\"method\",\"value\":\"gausslegendre\",\"default\":\"gausslegendre\",\"range\":[\"gausslegendre\",\"riemann_left\",\"riemann_right\",\"riemann_middle\",\"riemann_trapezoid\"],\"required\":\"false\",\"description\":\"Method for the integral approximation. The methods available are: 'riemann_left', 'riemann_right', 'riemann_middle', 'riemann_trapezoid', 'gausslegendre'. Defaults to 'gausslegendre'.\",\"type\":\"select\"},\"n_steps\":{\"key\":\"n_steps\",\"value\":10,\"default\":10,\"range\":[null,null],\"required\":\"false\",\"description\":\"Number of step in the path integral approximation from the baseline to the input instance. Defaults to 10.\",\"type\":\"number\"},\"internal_batch_size\":{\"key\":\"internal_batch_size\",\"value\":100,\"default\":100,\"range\":[null,null],\"required\":\"false\",\"description\":\"Batch size for the internal batching. Defaults to 100.\",\"type\":\"number\"},\"png_width\":{\"key\":\"png_width\",\"value\":1200,\"default\":1200,\"range\":[null,null],\"required\":\"false\",\"description\":\"Width (in pixels) of the png image containing the explanation.\",\"type\":\"number\"},\"png_height\":{\"key\":\"png_height\",\"value\":600,\"default\":600,\"range\":[null,null],\"required\":\"false\",\"description\":\"Height (in pixels) of the png image containing the explanation.\",\"type\":\"number\"}}},\"fad46100-dcf8-42fe-8244-39e383098d32\":{\"id\":\"fad46100-dcf8-42fe-8244-39e383098d32\",\"Concept\":\"Explanation Method\",\"Instance\":\"/Images/NearestNeighbours\",\"description\":\"\",\"properties\":{},\"display\":{\"x\":120,\"y\":372},\"params\":{\"no_neighbours\":{\"key\":\"no_neighbours\",\"value\":3,\"default\":3,\"range\":[null,null],\"required\":\"false\",\"description\":\"number of neighbours returned as an integer; default is 3.\",\"type\":\"number\"},\"png_width\":{\"key\":\"png_width\",\"value\":1200,\"default\":1200,\"range\":[null,null],\"required\":\"false\",\"description\":\"Width (in pixels) of the png image containing the explanation.\",\"type\":\"number\"},\"png_height\":{\"key\":\"png_height\",\"value\":600,\"default\":600,\"range\":[null,null],\"required\":\"false\",\"description\":\"Height (in pixels) of the png image containing the explanation.\",\"type\":\"number\"}}}},\"display\":{\"camera_x\":720,\"camera_y\":394.5,\"camera_z\":1,\"x\":-192,\"y\":-108}}],\"custom_nodes\":[]}},{\"name\":\"Tree\",\"score__\":6.8,\"usecase\":\"6426a68da3402ba28c44a7c0\",\"persona\":\"6426a7eca3402ba28c44a7d0\",\"intent\":\"intent-130431\",\"description\":\"\",\"path\":\"b3projects-78913630-d3b8-490a-bffe-5a35f2fb4536\",\"data\":{\"version\":\"0.1.0\",\"scope\":\"project\",\"selectedTree\":\"33def3ec-31a8-47c1-856c-7fd724718df2\",\"trees\":[{\"version\":\"0.1.0\",\"scope\":\"tree\",\"id\":\"33def3ec-31a8-47c1-856c-7fd724718df2\",\"Instance\":\"Explanation Experience\",\"description\":\"\",\"root\":\"546f5cee-68b0-4b90-85be-786b9957d03a\",\"properties\":{},\"nodes\":{\"5112868d-f790-4665-ab3e-18a36a857363\":{\"id\":\"5112868d-f790-4665-ab3e-18a36a857363\",\"Concept\":\"Sequence\",\"Instance\":\"Sequence\",\"description\":\"\",\"properties\":{},\"display\":{\"x\":-60,\"y\":168},\"firstChild\":{\"Id\":\"85b9b22e-1b0a-4a9b-81a9-83952d27271a\",\"Next\":{\"Id\":\"5829d6db-5011-4ad8-846a-ab8452c6be46\",\"Next\":null}}},\"546f5cee-68b0-4b90-85be-786b9957d03a\":{\"id\":\"546f5cee-68b0-4b90-85be-786b9957d03a\",\"Concept\":\"Priority\",\"Instance\":\"Priority\",\"description\":\"\",\"properties\":{},\"display\":{\"x\":-60,\"y\":84},\"firstChild\":{\"Id\":\"5112868d-f790-4665-ab3e-18a36a857363\",\"Next\":null}},\"85b9b22e-1b0a-4a9b-81a9-83952d27271a\":{\"id\":\"85b9b22e-1b0a-4a9b-81a9-83952d27271a\",\"Concept\":\"User Question\",\"Instance\":\"User Question\",\"description\":\"\",\"properties\":{},\"display\":{\"x\":-192,\"y\":324},\"params\":{\"Question\":{\"key\":\"Question\",\"value\":\"Why does the system predict category Y for image X?\"}}},\"5829d6db-5011-4ad8-846a-ab8452c6be46\":{\"id\":\"5829d6db-5011-4ad8-846a-ab8452c6be46\",\"Concept\":\"Explanation Method\",\"Instance\":\"/Images/IntegratedGradients\",\"description\":\"\",\"properties\":{},\"display\":{\"x\":60,\"y\":324},\"params\":{\"output_classes\":{\"key\":\"output_classes\",\"value\":\"[ ]\",\"default\":\"[ ]\",\"range\":[null,null],\"required\":\"false\",\"description\":\"Array of integers representing the classes to be explained. Defaults to class 1.\",\"type\":\"text\"},\"top_classes\":{\"key\":\"top_classes\",\"value\":1,\"default\":1,\"range\":[null,null],\"required\":\"false\",\"description\":\"Integer representing the number of classes with the highest prediction probability to be explained. Overrides 'output_classes' if provided.\",\"type\":\"number\"},\"num_features\":{\"key\":\"num_features\",\"value\":10,\"default\":10,\"range\":[null,null],\"required\":\"false\",\"description\":\"Integer representing the maximum number of features to be included in the explanation.\",\"type\":\"number\"},\"png_width\":{\"key\":\"png_width\",\"value\":1000,\"default\":1000,\"range\":[null,null],\"required\":\"false\",\"description\":\"Width (in pixels) of the png image containing the explanation.\",\"type\":\"number\"},\"png_height\":{\"key\":\"png_height\",\"value\":400,\"default\":400,\"range\":[null,null],\"required\":\"false\",\"description\":\"Height (in pixels) of the png image containing the explanation.\",\"type\":\"number\"}}}},\"display\":{\"camera_x\":937,\"camera_y\":472,\"camera_z\":1,\"x\":-60,\"y\":0}}],\"custom_nodes\":[]}},{\"name\":\"Tree\",\"score__\":6.8,\"usecase\":\"6426a68da3402ba28c44a7c0\",\"persona\":\"6426a7eca3402ba28c44a7d0\",\"intent\":\"intent-130431\",\"description\":\"\",\"path\":\"b3projects-f6dfd97f-eb4e-4ae5-84cf-ad01a3f51818\",\"data\":{\"version\":\"0.1.0\",\"scope\":\"project\",\"selectedTree\":\"33def3ec-31a8-47c1-856c-7fd724718df2\",\"trees\":[{\"version\":\"0.1.0\",\"scope\":\"tree\",\"id\":\"33def3ec-31a8-47c1-856c-7fd724718df2\",\"Instance\":\"Explanation Experience\",\"description\":\"\",\"root\":\"546f5cee-68b0-4b90-85be-786b9957d03a\",\"properties\":{},\"nodes\":{\"5112868d-f790-4665-ab3e-18a36a857363\":{\"id\":\"5112868d-f790-4665-ab3e-18a36a857363\",\"Concept\":\"Sequence\",\"Instance\":\"Sequence\",\"description\":\"\",\"properties\":{},\"display\":{\"x\":-60,\"y\":168},\"firstChild\":{\"Id\":\"85b9b22e-1b0a-4a9b-81a9-83952d27271a\",\"Next\":{\"Id\":\"5829d6db-5011-4ad8-846a-ab8452c6be46\",\"Next\":null}}},\"546f5cee-68b0-4b90-85be-786b9957d03a\":{\"id\":\"546f5cee-68b0-4b90-85be-786b9957d03a\",\"Concept\":\"Priority\",\"Instance\":\"Priority\",\"description\":\"\",\"properties\":{},\"display\":{\"x\":-60,\"y\":84},\"firstChild\":{\"Id\":\"5112868d-f790-4665-ab3e-18a36a857363\",\"Next\":null}},\"85b9b22e-1b0a-4a9b-81a9-83952d27271a\":{\"id\":\"85b9b22e-1b0a-4a9b-81a9-83952d27271a\",\"Concept\":\"User Question\",\"Instance\":\"User Question\",\"description\":\"\",\"properties\":{},\"display\":{\"x\":-192,\"y\":324},\"params\":{\"Question\":{\"key\":\"Question\",\"value\":\"Why does the system predict category Y for image X?\"}}},\"5829d6db-5011-4ad8-846a-ab8452c6be46\":{\"id\":\"5829d6db-5011-4ad8-846a-ab8452c6be46\",\"Concept\":\"Explanation Method\",\"Instance\":\"/Images/GradCamTorch\",\"description\":\"\",\"properties\":{},\"display\":{\"x\":60,\"y\":324},\"params\":{\"output_classes\":{\"key\":\"output_classes\",\"value\":\"[ ]\",\"default\":\"[ ]\",\"range\":[null,null],\"required\":\"false\",\"description\":\"Array of integers representing the classes to be explained. Defaults to class 1.\",\"type\":\"text\"},\"top_classes\":{\"key\":\"top_classes\",\"value\":1,\"default\":1,\"range\":[null,null],\"required\":\"false\",\"description\":\"Integer representing the number of classes with the highest prediction probability to be explained. Overrides 'output_classes' if provided.\",\"type\":\"number\"},\"num_features\":{\"key\":\"num_features\",\"value\":10,\"default\":10,\"range\":[null,null],\"required\":\"false\",\"description\":\"Integer representing the maximum number of features to be included in the explanation.\",\"type\":\"number\"},\"png_width\":{\"key\":\"png_width\",\"value\":1000,\"default\":1000,\"range\":[null,null],\"required\":\"false\",\"description\":\"Width (in pixels) of the png image containing the explanation.\",\"type\":\"number\"},\"png_height\":{\"key\":\"png_height\",\"value\":400,\"default\":400,\"range\":[null,null],\"required\":\"false\",\"description\":\"Height (in pixels) of the png image containing the explanation.\",\"type\":\"number\"}}}},\"display\":{\"camera_x\":937,\"camera_y\":472,\"camera_z\":1,\"x\":-60,\"y\":0}}],\"custom_nodes\":[]}},{\"name\":\"Tree\",\"score__\":6.8,\"usecase\":\"6426a68da3402ba28c44a7c0\",\"persona\":\"6426a7eca3402ba28c44a7d0\",\"intent\":\"intent-130431\",\"description\":\"\",\"path\":\"b3projects-7b35cd48-a8e9-47e2-99d6-9cce95d3b663\",\"data\":{\"version\":\"0.1.0\",\"scope\":\"project\",\"selectedTree\":\"33def3ec-31a8-47c1-856c-7fd724718df2\",\"trees\":[{\"version\":\"0.1.0\",\"scope\":\"tree\",\"id\":\"33def3ec-31a8-47c1-856c-7fd724718df2\",\"Instance\":\"Explanation Experience\",\"description\":\"\",\"root\":\"546f5cee-68b0-4b90-85be-786b9957d03a\",\"properties\":{},\"nodes\":{\"5112868d-f790-4665-ab3e-18a36a857363\":{\"id\":\"5112868d-f790-4665-ab3e-18a36a857363\",\"Concept\":\"Sequence\",\"Instance\":\"Sequence\",\"description\":\"\",\"properties\":{},\"display\":{\"x\":-60,\"y\":168},\"firstChild\":{\"Id\":\"85b9b22e-1b0a-4a9b-81a9-83952d27271a\",\"Next\":{\"Id\":\"5829d6db-5011-4ad8-846a-ab8452c6be46\",\"Next\":null}}},\"546f5cee-68b0-4b90-85be-786b9957d03a\":{\"id\":\"546f5cee-68b0-4b90-85be-786b9957d03a\",\"Concept\":\"Priority\",\"Instance\":\"Priority\",\"description\":\"\",\"properties\":{},\"display\":{\"x\":-60,\"y\":84},\"firstChild\":{\"Id\":\"5112868d-f790-4665-ab3e-18a36a857363\",\"Next\":null}},\"85b9b22e-1b0a-4a9b-81a9-83952d27271a\":{\"id\":\"85b9b22e-1b0a-4a9b-81a9-83952d27271a\",\"Concept\":\"User Question\",\"Instance\":\"User Question\",\"description\":\"\",\"properties\":{},\"display\":{\"x\":-192,\"y\":324},\"params\":{\"Question\":{\"key\":\"Question\",\"value\":\"Why does the system predict category Y not Z for image X?\"}}},\"5829d6db-5011-4ad8-846a-ab8452c6be46\":{\"id\":\"5829d6db-5011-4ad8-846a-ab8452c6be46\",\"Concept\":\"Explanation Method\",\"Instance\":\"/Images/GradCamTorch\",\"description\":\"\",\"properties\":{},\"display\":{\"x\":60,\"y\":324},\"params\":{\"output_classes\":{\"key\":\"output_classes\",\"value\":\"[ ]\",\"default\":\"[ ]\",\"range\":[null,null],\"required\":\"false\",\"description\":\"Array of integers representing the classes to be explained. Defaults to class 1.\",\"type\":\"text\"},\"top_classes\":{\"key\":\"top_classes\",\"value\":1,\"default\":1,\"range\":[null,null],\"required\":\"false\",\"description\":\"Integer representing the number of classes with the highest prediction probability to be explained. Overrides 'output_classes' if provided.\",\"type\":\"number\"},\"num_features\":{\"key\":\"num_features\",\"value\":10,\"default\":10,\"range\":[null,null],\"required\":\"false\",\"description\":\"Integer representing the maximum number of features to be included in the explanation.\",\"type\":\"number\"},\"png_width\":{\"key\":\"png_width\",\"value\":1000,\"default\":1000,\"range\":[null,null],\"required\":\"false\",\"description\":\"Width (in pixels) of the png image containing the explanation.\",\"type\":\"number\"},\"png_height\":{\"key\":\"png_height\",\"value\":400,\"default\":400,\"range\":[null,null],\"required\":\"false\",\"description\":\"Height (in pixels) of the png image containing the explanation.\",\"type\":\"number\"}}}},\"display\":{\"camera_x\":937,\"camera_y\":472,\"camera_z\":1,\"x\":-60,\"y\":0}}],\"custom_nodes\":[]}}]\n"
     ]
    }
   ],
   "source": [
    "# API call to iSeeOntoAPI to get the most similar cases\n",
    "\n",
    "url = \"https://api-dev.isee4xai.com/api/trees/cbr_retrieve\"\n",
    "\n",
    "payload = json.dumps({\n",
    "  \"treeId\": \"64b676baa737e466ce27f166\",\n",
    "  \"usecaseId\": \"6426a68da3402ba28c44a7c0\",\n",
    "  \"topk\": 5\n",
    "})\n",
    "headers = {\n",
    "  'Content-Type': 'application/json'\n",
    "}\n",
    "\n",
    "response = requests.request(\"POST\", url, headers=headers, data=payload)\n",
    "\n",
    "print(response.text)"
   ]
  },
  {
   "cell_type": "code",
   "execution_count": 15,
   "metadata": {
    "id": "IttP8Hm-iEpE"
   },
   "outputs": [],
   "source": [
    "# Build the node list from the behavior tree for the graph structure\n",
    "def print_node_instances(node_id, nodes_dict):\n",
    "    node = nodes_dict[node_id]\n",
    "    node_instance = node['Instance']\n",
    "    if node_instance is None:\n",
    "        return None\n",
    "    node_list.append(node_instance)\n",
    "    id_list.append(node_id)\n",
    "\n",
    "    if 'firstChild' in node:\n",
    "        first_child_id = node['firstChild']['Id']\n",
    "        print_node_instances(first_child_id, nodes_dict)\n",
    "        next_child = node['firstChild'].get('Next')\n",
    "\n",
    "        while next_child is not None:\n",
    "            next_child_id = next_child['Id']\n",
    "            print_node_instances(next_child_id, nodes_dict)\n",
    "            next_child = next_child.get('Next')\n",
    "\n",
    "    return node_list, id_list"
   ]
  },
  {
   "cell_type": "code",
   "execution_count": 16,
   "metadata": {
    "id": "7-WaAklPkVCM"
   },
   "outputs": [],
   "source": [
    "# Get the index of the parent in the behavior tree\n",
    "def get_index(node_id, nodes_dict, id_list):\n",
    "    node = nodes_dict[node_id]\n",
    "    node_instance = node.get('Instance')\n",
    "    node_index = id_list.index(node_id)\n",
    "    node_index = node_index + 1 #node list start with 'r'\n",
    "\n",
    "    return node_index, node_instance"
   ]
  },
  {
   "cell_type": "code",
   "execution_count": 17,
   "metadata": {
    "id": "uh_jxzIljtBi"
   },
   "outputs": [],
   "source": [
    "# Find the parent of a node\n",
    "def find_parent(node_id, node, parent_child_dict, id_list, nodes_dict):\n",
    "    parent_index, parent_instance = get_index(node_id, nodes_dict, id_list)\n",
    "\n",
    "    if 'firstChild' in node:\n",
    "        first_child_id = node['firstChild']['Id']\n",
    "        child_index, child_instance = get_index(first_child_id, nodes_dict, id_list)\n",
    "\n",
    "        if parent_index not in parent_child_dict:\n",
    "            parent_child_dict[parent_index] = []\n",
    "        if child_index not in parent_child_dict[parent_index]:\n",
    "            parent_child_dict[parent_index].append(child_index)\n",
    "\n",
    "        next_child = node['firstChild'].get('Next')\n",
    "        while next_child is not None:\n",
    "            next_child_id = next_child['Id']\n",
    "            child_index, child_instance = get_index(next_child_id, nodes_dict, id_list)\n",
    "            if child_index not in parent_child_dict[parent_index]:\n",
    "                parent_child_dict[parent_index].append(child_index)  # Add child index to the parent's list\n",
    "            next_child = next_child.get('Next')\n",
    "\n",
    "        return parent_instance"
   ]
  },
  {
   "cell_type": "code",
   "execution_count": 18,
   "metadata": {
    "id": "A915Fs1bjdAy"
   },
   "outputs": [],
   "source": [
    "# Build a parent-child dictionary for nodes in the bahavior tree\n",
    "def create_parent_child_dict(nodes_dict, node_list, id_list):\n",
    "    parent_child_dict = {}\n",
    "    # root = node_list[0] #r\n",
    "    parent_child_dict[0] = [1]  # Add root node with index 0\n",
    "\n",
    "    for i, (instance, node_id) in enumerate(zip(node_list[1:], id_list), start=1):\n",
    "        node_index = i\n",
    "        node_id =id_list[node_index-1]\n",
    "        node = nodes_dict[node_id]\n",
    "        find_parent(node_id, node, parent_child_dict, id_list, nodes_dict)\n",
    "\n",
    "    return parent_child_dict"
   ]
  },
  {
   "cell_type": "code",
   "execution_count": 23,
   "metadata": {
    "id": "tDcmvoG6pgKt"
   },
   "outputs": [],
   "source": [
    "# function to translate the case solution to graph structure\n",
    "# This function must work for all the cases and the query\n",
    "# TODO\n",
    "def translateCasesFromJSONtoGraph(case):\n",
    "    ## Preeja can provide this\n",
    "    tree_dict, parent_child_dict = {},{}\n",
    "    # node_list = ['r'] # Added 'r' as the default root node in the node list\n",
    "    # id_list =[] #List of node id's\n",
    "\n",
    "    for idx, obj in enumerate(case, start=1):\n",
    "        trees = obj['data']['trees']\n",
    "        # Get the 'nodes' from 'trees'\n",
    "        for tree in trees:\n",
    "            nodes_dict = {}\n",
    "            nodes = tree.get('nodes', {})\n",
    "            nodes_dict.update(nodes)\n",
    "            # Get the root node\n",
    "            root_node_id = tree.get('root')\n",
    "\n",
    "        # Call the recursive function to print node instances\n",
    "        node_list, id_list= print_node_instances(root_node_id, nodes_dict, node_list=['r'], id_list=[])\n",
    "        # Call the function to create the parent_child dictionary\n",
    "        parent_child_dict = create_parent_child_dict(nodes_dict, node_list, id_list)\n",
    "        # Build the adjacency list from the behavior tree\n",
    "        adjacency_list = build_adjacency_list(node_list, parent_child_dict)\n",
    "\n",
    "        tree_key = f'tree_{idx}'\n",
    "        tree_dict[tree_key] = {\n",
    "              'tree_json': trees,\n",
    "              'tree_graph': {\n",
    "                  'nodes': node_list,\n",
    "                  'adj': adjacency_list\n",
    "              }\n",
    "        }\n",
    "\n",
    "    # # Print the dictionary\n",
    "    # print('\\n',tree_dict)\n",
    "\n",
    "    return tree_dict"
   ]
  },
  {
   "cell_type": "code",
   "execution_count": 24,
   "metadata": {},
   "outputs": [
    {
     "ename": "TypeError",
     "evalue": "print_node_instances() got an unexpected keyword argument 'node_list'",
     "output_type": "error",
     "traceback": [
      "\u001b[1;31m---------------------------------------------------------------------------\u001b[0m",
      "\u001b[1;31mTypeError\u001b[0m                                 Traceback (most recent call last)",
      "\u001b[1;32m~\\AppData\\Local\\Temp\\ipykernel_8372\\2746640764.py\u001b[0m in \u001b[0;36m<module>\u001b[1;34m\u001b[0m\n\u001b[0;32m      3\u001b[0m \u001b[1;32mwith\u001b[0m \u001b[0mopen\u001b[0m\u001b[1;33m(\u001b[0m\u001b[1;34m\"apioutput.json\"\u001b[0m\u001b[1;33m,\u001b[0m \u001b[1;34m\"r\"\u001b[0m\u001b[1;33m)\u001b[0m \u001b[1;32mas\u001b[0m \u001b[0mf\u001b[0m\u001b[1;33m:\u001b[0m\u001b[1;33m\u001b[0m\u001b[1;33m\u001b[0m\u001b[0m\n\u001b[0;32m      4\u001b[0m     \u001b[0mcase\u001b[0m \u001b[1;33m=\u001b[0m \u001b[0mjson\u001b[0m\u001b[1;33m.\u001b[0m\u001b[0mload\u001b[0m\u001b[1;33m(\u001b[0m\u001b[0mf\u001b[0m\u001b[1;33m)\u001b[0m\u001b[1;33m\u001b[0m\u001b[1;33m\u001b[0m\u001b[0m\n\u001b[1;32m----> 5\u001b[1;33m \u001b[0mtree_dict\u001b[0m \u001b[1;33m=\u001b[0m \u001b[0mtranslateCasesFromJSONtoGraph\u001b[0m\u001b[1;33m(\u001b[0m\u001b[0mcase\u001b[0m\u001b[1;33m)\u001b[0m\u001b[1;33m\u001b[0m\u001b[1;33m\u001b[0m\u001b[0m\n\u001b[0m",
      "\u001b[1;32m~\\AppData\\Local\\Temp\\ipykernel_8372\\2138951183.py\u001b[0m in \u001b[0;36mtranslateCasesFromJSONtoGraph\u001b[1;34m(case)\u001b[0m\n\u001b[0;32m     19\u001b[0m \u001b[1;33m\u001b[0m\u001b[0m\n\u001b[0;32m     20\u001b[0m         \u001b[1;31m# Call the recursive function to print node instances\u001b[0m\u001b[1;33m\u001b[0m\u001b[1;33m\u001b[0m\u001b[0m\n\u001b[1;32m---> 21\u001b[1;33m         \u001b[0mnode_list\u001b[0m\u001b[1;33m,\u001b[0m \u001b[0mid_list\u001b[0m\u001b[1;33m=\u001b[0m \u001b[0mprint_node_instances\u001b[0m\u001b[1;33m(\u001b[0m\u001b[0mroot_node_id\u001b[0m\u001b[1;33m,\u001b[0m \u001b[0mnodes_dict\u001b[0m\u001b[1;33m,\u001b[0m \u001b[0mnode_list\u001b[0m\u001b[1;33m=\u001b[0m\u001b[1;33m[\u001b[0m\u001b[1;34m'r'\u001b[0m\u001b[1;33m]\u001b[0m\u001b[1;33m,\u001b[0m \u001b[0mid_list\u001b[0m\u001b[1;33m=\u001b[0m\u001b[1;33m[\u001b[0m\u001b[1;33m]\u001b[0m\u001b[1;33m)\u001b[0m\u001b[1;33m\u001b[0m\u001b[1;33m\u001b[0m\u001b[0m\n\u001b[0m\u001b[0;32m     22\u001b[0m         \u001b[1;31m# Call the function to create the parent_child dictionary\u001b[0m\u001b[1;33m\u001b[0m\u001b[1;33m\u001b[0m\u001b[0m\n\u001b[0;32m     23\u001b[0m         \u001b[0mparent_child_dict\u001b[0m \u001b[1;33m=\u001b[0m \u001b[0mcreate_parent_child_dict\u001b[0m\u001b[1;33m(\u001b[0m\u001b[0mnodes_dict\u001b[0m\u001b[1;33m,\u001b[0m \u001b[0mnode_list\u001b[0m\u001b[1;33m,\u001b[0m \u001b[0mid_list\u001b[0m\u001b[1;33m)\u001b[0m\u001b[1;33m\u001b[0m\u001b[1;33m\u001b[0m\u001b[0m\n",
      "\u001b[1;31mTypeError\u001b[0m: print_node_instances() got an unexpected keyword argument 'node_list'"
     ]
    }
   ],
   "source": [
    "## Preeja can provide this\n",
    "# Load case base from json file\n",
    "with open(\"apioutput.json\", \"r\") as f:\n",
    "    case = json.load(f)\n",
    "tree_dict = translateCasesFromJSONtoGraph(case)"
   ]
  },
  {
   "cell_type": "code",
   "execution_count": null,
   "metadata": {},
   "outputs": [],
   "source": [
    "print(tree_dict)"
   ]
  },
  {
   "cell_type": "markdown",
   "metadata": {
    "id": "LQqBgmf-bA2x"
   },
   "source": [
    "# New section"
   ]
  },
  {
   "cell_type": "code",
   "execution_count": null,
   "metadata": {
    "id": "mI91vZPSrlaM"
   },
   "outputs": [],
   "source": [
    "# delta: custom node distance function\n",
    "def semantic_delta(x, y):\n",
    "    df = getSimilarityTable()\n",
    "    #print(df[\"/Images/Anchors\"][\"/Images/Counterfactuals\"])\n",
    "\n",
    "    if(x==y):\n",
    "        ret = 0.\n",
    "    elif(x!=None and y==None): #inserting\n",
    "        #print(\"inserting\")\n",
    "        ret = insertion_cost\n",
    "    elif(x==None and y!=None): #deleting\n",
    "        #print(\"deleting\")\n",
    "        ret = deletion_cost\n",
    "    elif(x=='r'or y=='r'):  #we assign an infinite cost when comparing a root node\n",
    "        #print(\"root\")\n",
    "        ret = np.inf\n",
    "    elif(x in ['f','t'] and y in ['f','t']): #if both nodes are either failer or succeeder, assign null cost\n",
    "        #print(\"failer and succeeder\")\n",
    "        ret = 0.\n",
    "    elif(x in ['s','p'] and y in['s','p']): #if both nodes are either sequence or priority, assign null cost\n",
    "        #print(\"sequence and priority\")\n",
    "        ret = 0.\n",
    "    elif(x in ['s','p'] or y in ['s','p']): #if one of the nodes is a sequence or priority, the other won't because of the previous rule\n",
    "        #print(\"sequence or priority\")\n",
    "        ret = np.inf\n",
    "    elif(x in ['f','t'] and y[0]=='/'):\n",
    "        #print(\"cambiando explainer por failure or succeeder\")\n",
    "        ret = leave_change\n",
    "    elif(x[0]=='/' and y in ['f','t']):\n",
    "        #print(\"cambiando explainer por failure or succeeder\")\n",
    "        ret = leave_change\n",
    "    elif x in df.columns and y in df.columns: #Both explainers are in similarity table, DF MUST BE LOADED BEFOREHAND\n",
    "        ret = 1-df.loc[x][y]\n",
    "    else: # here we have a question leave\n",
    "        ret = 10 #default_cost  \n",
    "       \n",
    "    #print('sem_delta: ',str(x),\" , \"+str(y)+ \" = \"+ str(ret) )   \n",
    "    return ret"
   ]
  },
  {
   "cell_type": "code",
   "execution_count": null,
   "metadata": {
    "id": "W55YFTvVq_Yl"
   },
   "outputs": [],
   "source": [
    "# Function to calculate the similarity between two BTs, both of them have to have graph structure\n",
    "def editDistFunc(x_nodes, x_adj, y_nodes, y_adj, delta):\n",
    "    # delta=custom node distance function\n",
    "    if delta is None:\n",
    "        return ted.standard_ted(x_nodes, x_adj, y_nodes, y_adj)\n",
    "    else:\n",
    "        return ted.ted(x_nodes, x_adj, y_nodes, y_adj, delta)"
   ]
  },
  {
   "cell_type": "code",
   "execution_count": null,
   "metadata": {
    "id": "KPsxx6EYsf0O"
   },
   "outputs": [],
   "source": [
    "# Next, we have to get each case BT from response.text\n",
    "# save this in a structure (list, dictionary...)\n",
    "# TODO"
   ]
  },
  {
   "cell_type": "code",
   "execution_count": null,
   "metadata": {
    "id": "j-H1PKZgS7yY"
   },
   "outputs": [],
   "source": [
    "# Select the subtree from the query that we have to consider, given a specific condition node\n",
    "# TODO"
   ]
  },
  {
   "cell_type": "code",
   "execution_count": null,
   "metadata": {
    "id": "i6kFuaxLsghX"
   },
   "outputs": [],
   "source": [
    "# Translate each BT (json format) to graph structure (list of nodes and adjacency list)\n",
    "# Also, we should use another structure to save the correspondence between the json format\n",
    "# and the graph format, so later, when we have to return the json format for the most similar BT\n",
    "# we ca access that structure and not doing the translation again\n",
    "# TODO\n",
    "# call to translateCases(case)"
   ]
  },
  {
   "cell_type": "code",
   "execution_count": null,
   "metadata": {
    "id": "fpljhcXSrgJL"
   },
   "outputs": [],
   "source": [
    "# Adapt the similarity metric function between explainers\n",
    "# Think of how to do it\n",
    "# TODO\n"
   ]
  },
  {
   "cell_type": "code",
   "execution_count": null,
   "metadata": {
    "id": "Z5S_XEEfsVMg"
   },
   "outputs": [],
   "source": [
    "# MAIN\n",
    "# solution = structure\n",
    "# for every BT in the case base:\n",
    "#   compare the query with that BT\n",
    "#   solution[BT] = editDistFunc(x_nodes, x_adj, y_nodes, y_adj, delta)\n",
    "\n",
    "# Sort solution to get the BT with the lowest edit distance\n",
    "\n",
    "# From the structure above, we have to get the json format for that solution\n"
   ]
  },
  {
   "cell_type": "code",
   "execution_count": null,
   "metadata": {
    "id": "W5kfkS7lBGPI"
   },
   "outputs": [],
   "source": []
  }
 ],
 "metadata": {
  "colab": {
   "provenance": [],
   "toc_visible": true
  },
  "kernelspec": {
   "display_name": "Python 3 (ipykernel)",
   "language": "python",
   "name": "python3"
  },
  "language_info": {
   "codemirror_mode": {
    "name": "ipython",
    "version": 3
   },
   "file_extension": ".py",
   "mimetype": "text/x-python",
   "name": "python",
   "nbconvert_exporter": "python",
   "pygments_lexer": "ipython3",
   "version": "3.9.13"
  }
 },
 "nbformat": 4,
 "nbformat_minor": 1
}
