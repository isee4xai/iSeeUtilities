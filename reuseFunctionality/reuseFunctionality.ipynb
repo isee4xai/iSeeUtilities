{
  "nbformat": 4,
  "nbformat_minor": 0,
  "metadata": {
    "colab": {
      "provenance": [],
      "toc_visible": true
    },
    "kernelspec": {
      "name": "python3",
      "display_name": "Python 3"
    },
    "language_info": {
      "name": "python"
    }
  },
  "cells": [
    {
      "cell_type": "code",
      "execution_count": null,
      "metadata": {
        "id": "SdU8NRXSpK5x",
        "colab": {
          "base_uri": "https://localhost:8080/"
        },
        "outputId": "68ca2302-ad74-4eeb-f3d8-448887804572"
      },
      "outputs": [
        {
          "output_type": "stream",
          "name": "stdout",
          "text": [
            "Looking in indexes: https://pypi.org/simple, https://us-python.pkg.dev/colab-wheels/public/simple/\n",
            "Requirement already satisfied: edist in /usr/local/lib/python3.10/dist-packages (1.2.0)\n",
            "Requirement already satisfied: numpy in /usr/local/lib/python3.10/dist-packages (from edist) (1.22.4)\n",
            "Requirement already satisfied: scikit-learn in /usr/local/lib/python3.10/dist-packages (from edist) (1.2.2)\n",
            "Requirement already satisfied: scipy in /usr/local/lib/python3.10/dist-packages (from edist) (1.10.1)\n",
            "Requirement already satisfied: proto-dist-ml in /usr/local/lib/python3.10/dist-packages (from edist) (1.0.1)\n",
            "Requirement already satisfied: joblib>=1.1.1 in /usr/local/lib/python3.10/dist-packages (from scikit-learn->edist) (1.2.0)\n",
            "Requirement already satisfied: threadpoolctl>=2.0.0 in /usr/local/lib/python3.10/dist-packages (from scikit-learn->edist) (3.1.0)\n"
          ]
        }
      ],
      "source": [
        "# Libraries here\n",
        "import pandas as pd\n",
        "import numpy as np\n",
        "import requests\n",
        "import json\n",
        "\n",
        "!pip install edist\n",
        "import edist.ted as ted"
      ]
    },
    {
      "cell_type": "code",
      "source": [
        "insertion_cost = 3.\n",
        "deletion_cost = 3.\n",
        "leave_change = 3. #1.\n",
        "default_cost = 100"
      ],
      "metadata": {
        "id": "FbD_vnQprqf8"
      },
      "execution_count": null,
      "outputs": []
    },
    {
      "cell_type": "code",
      "source": [
        "# API call to iSeeOntoAPI\n",
        "url = \"\" # provided by Chamath\n",
        "\n",
        "payload={}\n",
        "headers = {}\n",
        "\n",
        "response = requests.request(\"GET\", url, headers=headers, data=payload)\n",
        "\n",
        "print(response.text)"
      ],
      "metadata": {
        "id": "DSMc8Ss0pZLv",
        "colab": {
          "base_uri": "https://localhost:8080/",
          "height": 381
        },
        "outputId": "8431f2fd-105d-4863-cf65-195fa16ee8e9"
      },
      "execution_count": null,
      "outputs": [
        {
          "output_type": "error",
          "ename": "MissingSchema",
          "evalue": "ignored",
          "traceback": [
            "\u001b[0;31m---------------------------------------------------------------------------\u001b[0m",
            "\u001b[0;31mMissingSchema\u001b[0m                             Traceback (most recent call last)",
            "\u001b[0;32m<ipython-input-4-85d86b94ec6e>\u001b[0m in \u001b[0;36m<cell line: 7>\u001b[0;34m()\u001b[0m\n\u001b[1;32m      5\u001b[0m \u001b[0mheaders\u001b[0m \u001b[0;34m=\u001b[0m \u001b[0;34m{\u001b[0m\u001b[0;34m}\u001b[0m\u001b[0;34m\u001b[0m\u001b[0;34m\u001b[0m\u001b[0m\n\u001b[1;32m      6\u001b[0m \u001b[0;34m\u001b[0m\u001b[0m\n\u001b[0;32m----> 7\u001b[0;31m \u001b[0mresponse\u001b[0m \u001b[0;34m=\u001b[0m \u001b[0mrequests\u001b[0m\u001b[0;34m.\u001b[0m\u001b[0mrequest\u001b[0m\u001b[0;34m(\u001b[0m\u001b[0;34m\"GET\"\u001b[0m\u001b[0;34m,\u001b[0m \u001b[0murl\u001b[0m\u001b[0;34m,\u001b[0m \u001b[0mheaders\u001b[0m\u001b[0;34m=\u001b[0m\u001b[0mheaders\u001b[0m\u001b[0;34m,\u001b[0m \u001b[0mdata\u001b[0m\u001b[0;34m=\u001b[0m\u001b[0mpayload\u001b[0m\u001b[0;34m)\u001b[0m\u001b[0;34m\u001b[0m\u001b[0;34m\u001b[0m\u001b[0m\n\u001b[0m\u001b[1;32m      8\u001b[0m \u001b[0;34m\u001b[0m\u001b[0m\n\u001b[1;32m      9\u001b[0m \u001b[0mprint\u001b[0m\u001b[0;34m(\u001b[0m\u001b[0mresponse\u001b[0m\u001b[0;34m.\u001b[0m\u001b[0mtext\u001b[0m\u001b[0;34m)\u001b[0m\u001b[0;34m\u001b[0m\u001b[0;34m\u001b[0m\u001b[0m\n",
            "\u001b[0;32m/usr/local/lib/python3.10/dist-packages/requests/api.py\u001b[0m in \u001b[0;36mrequest\u001b[0;34m(method, url, **kwargs)\u001b[0m\n\u001b[1;32m     59\u001b[0m     \u001b[0;31m# cases, and look like a memory leak in others.\u001b[0m\u001b[0;34m\u001b[0m\u001b[0;34m\u001b[0m\u001b[0m\n\u001b[1;32m     60\u001b[0m     \u001b[0;32mwith\u001b[0m \u001b[0msessions\u001b[0m\u001b[0;34m.\u001b[0m\u001b[0mSession\u001b[0m\u001b[0;34m(\u001b[0m\u001b[0;34m)\u001b[0m \u001b[0;32mas\u001b[0m \u001b[0msession\u001b[0m\u001b[0;34m:\u001b[0m\u001b[0;34m\u001b[0m\u001b[0;34m\u001b[0m\u001b[0m\n\u001b[0;32m---> 61\u001b[0;31m         \u001b[0;32mreturn\u001b[0m \u001b[0msession\u001b[0m\u001b[0;34m.\u001b[0m\u001b[0mrequest\u001b[0m\u001b[0;34m(\u001b[0m\u001b[0mmethod\u001b[0m\u001b[0;34m=\u001b[0m\u001b[0mmethod\u001b[0m\u001b[0;34m,\u001b[0m \u001b[0murl\u001b[0m\u001b[0;34m=\u001b[0m\u001b[0murl\u001b[0m\u001b[0;34m,\u001b[0m \u001b[0;34m**\u001b[0m\u001b[0mkwargs\u001b[0m\u001b[0;34m)\u001b[0m\u001b[0;34m\u001b[0m\u001b[0;34m\u001b[0m\u001b[0m\n\u001b[0m\u001b[1;32m     62\u001b[0m \u001b[0;34m\u001b[0m\u001b[0m\n\u001b[1;32m     63\u001b[0m \u001b[0;34m\u001b[0m\u001b[0m\n",
            "\u001b[0;32m/usr/local/lib/python3.10/dist-packages/requests/sessions.py\u001b[0m in \u001b[0;36mrequest\u001b[0;34m(self, method, url, params, data, headers, cookies, files, auth, timeout, allow_redirects, proxies, hooks, stream, verify, cert, json)\u001b[0m\n\u001b[1;32m    513\u001b[0m             \u001b[0mhooks\u001b[0m\u001b[0;34m=\u001b[0m\u001b[0mhooks\u001b[0m\u001b[0;34m,\u001b[0m\u001b[0;34m\u001b[0m\u001b[0;34m\u001b[0m\u001b[0m\n\u001b[1;32m    514\u001b[0m         )\n\u001b[0;32m--> 515\u001b[0;31m         \u001b[0mprep\u001b[0m \u001b[0;34m=\u001b[0m \u001b[0mself\u001b[0m\u001b[0;34m.\u001b[0m\u001b[0mprepare_request\u001b[0m\u001b[0;34m(\u001b[0m\u001b[0mreq\u001b[0m\u001b[0;34m)\u001b[0m\u001b[0;34m\u001b[0m\u001b[0;34m\u001b[0m\u001b[0m\n\u001b[0m\u001b[1;32m    516\u001b[0m \u001b[0;34m\u001b[0m\u001b[0m\n\u001b[1;32m    517\u001b[0m         \u001b[0mproxies\u001b[0m \u001b[0;34m=\u001b[0m \u001b[0mproxies\u001b[0m \u001b[0;32mor\u001b[0m \u001b[0;34m{\u001b[0m\u001b[0;34m}\u001b[0m\u001b[0;34m\u001b[0m\u001b[0;34m\u001b[0m\u001b[0m\n",
            "\u001b[0;32m/usr/local/lib/python3.10/dist-packages/requests/sessions.py\u001b[0m in \u001b[0;36mprepare_request\u001b[0;34m(self, request)\u001b[0m\n\u001b[1;32m    441\u001b[0m \u001b[0;34m\u001b[0m\u001b[0m\n\u001b[1;32m    442\u001b[0m         \u001b[0mp\u001b[0m \u001b[0;34m=\u001b[0m \u001b[0mPreparedRequest\u001b[0m\u001b[0;34m(\u001b[0m\u001b[0;34m)\u001b[0m\u001b[0;34m\u001b[0m\u001b[0;34m\u001b[0m\u001b[0m\n\u001b[0;32m--> 443\u001b[0;31m         p.prepare(\n\u001b[0m\u001b[1;32m    444\u001b[0m             \u001b[0mmethod\u001b[0m\u001b[0;34m=\u001b[0m\u001b[0mrequest\u001b[0m\u001b[0;34m.\u001b[0m\u001b[0mmethod\u001b[0m\u001b[0;34m.\u001b[0m\u001b[0mupper\u001b[0m\u001b[0;34m(\u001b[0m\u001b[0;34m)\u001b[0m\u001b[0;34m,\u001b[0m\u001b[0;34m\u001b[0m\u001b[0;34m\u001b[0m\u001b[0m\n\u001b[1;32m    445\u001b[0m             \u001b[0murl\u001b[0m\u001b[0;34m=\u001b[0m\u001b[0mrequest\u001b[0m\u001b[0;34m.\u001b[0m\u001b[0murl\u001b[0m\u001b[0;34m,\u001b[0m\u001b[0;34m\u001b[0m\u001b[0;34m\u001b[0m\u001b[0m\n",
            "\u001b[0;32m/usr/local/lib/python3.10/dist-packages/requests/models.py\u001b[0m in \u001b[0;36mprepare\u001b[0;34m(self, method, url, headers, files, data, params, auth, cookies, hooks, json)\u001b[0m\n\u001b[1;32m    316\u001b[0m \u001b[0;34m\u001b[0m\u001b[0m\n\u001b[1;32m    317\u001b[0m         \u001b[0mself\u001b[0m\u001b[0;34m.\u001b[0m\u001b[0mprepare_method\u001b[0m\u001b[0;34m(\u001b[0m\u001b[0mmethod\u001b[0m\u001b[0;34m)\u001b[0m\u001b[0;34m\u001b[0m\u001b[0;34m\u001b[0m\u001b[0m\n\u001b[0;32m--> 318\u001b[0;31m         \u001b[0mself\u001b[0m\u001b[0;34m.\u001b[0m\u001b[0mprepare_url\u001b[0m\u001b[0;34m(\u001b[0m\u001b[0murl\u001b[0m\u001b[0;34m,\u001b[0m \u001b[0mparams\u001b[0m\u001b[0;34m)\u001b[0m\u001b[0;34m\u001b[0m\u001b[0;34m\u001b[0m\u001b[0m\n\u001b[0m\u001b[1;32m    319\u001b[0m         \u001b[0mself\u001b[0m\u001b[0;34m.\u001b[0m\u001b[0mprepare_headers\u001b[0m\u001b[0;34m(\u001b[0m\u001b[0mheaders\u001b[0m\u001b[0;34m)\u001b[0m\u001b[0;34m\u001b[0m\u001b[0;34m\u001b[0m\u001b[0m\n\u001b[1;32m    320\u001b[0m         \u001b[0mself\u001b[0m\u001b[0;34m.\u001b[0m\u001b[0mprepare_cookies\u001b[0m\u001b[0;34m(\u001b[0m\u001b[0mcookies\u001b[0m\u001b[0;34m)\u001b[0m\u001b[0;34m\u001b[0m\u001b[0;34m\u001b[0m\u001b[0m\n",
            "\u001b[0;32m/usr/local/lib/python3.10/dist-packages/requests/models.py\u001b[0m in \u001b[0;36mprepare_url\u001b[0;34m(self, url, params)\u001b[0m\n\u001b[1;32m    390\u001b[0m             \u001b[0merror\u001b[0m \u001b[0;34m=\u001b[0m \u001b[0merror\u001b[0m\u001b[0;34m.\u001b[0m\u001b[0mformat\u001b[0m\u001b[0;34m(\u001b[0m\u001b[0mto_native_string\u001b[0m\u001b[0;34m(\u001b[0m\u001b[0murl\u001b[0m\u001b[0;34m,\u001b[0m \u001b[0;34m'utf8'\u001b[0m\u001b[0;34m)\u001b[0m\u001b[0;34m)\u001b[0m\u001b[0;34m\u001b[0m\u001b[0;34m\u001b[0m\u001b[0m\n\u001b[1;32m    391\u001b[0m \u001b[0;34m\u001b[0m\u001b[0m\n\u001b[0;32m--> 392\u001b[0;31m             \u001b[0;32mraise\u001b[0m \u001b[0mMissingSchema\u001b[0m\u001b[0;34m(\u001b[0m\u001b[0merror\u001b[0m\u001b[0;34m)\u001b[0m\u001b[0;34m\u001b[0m\u001b[0;34m\u001b[0m\u001b[0m\n\u001b[0m\u001b[1;32m    393\u001b[0m \u001b[0;34m\u001b[0m\u001b[0m\n\u001b[1;32m    394\u001b[0m         \u001b[0;32mif\u001b[0m \u001b[0;32mnot\u001b[0m \u001b[0mhost\u001b[0m\u001b[0;34m:\u001b[0m\u001b[0;34m\u001b[0m\u001b[0;34m\u001b[0m\u001b[0m\n",
            "\u001b[0;31mMissingSchema\u001b[0m: Invalid URL '': No scheme supplied. Perhaps you meant http://?"
          ]
        }
      ]
    },
    {
      "cell_type": "code",
      "source": [
        "## Preeja can provide this\n",
        "# Load case base from json file\n",
        "with open(\"apioutput.json\", \"r\") as f:\n",
        "    case = json.load(f)\n",
        "tree_dict = translateCasesFromJSONtoGraph(case)"
      ],
      "metadata": {
        "id": "Ta5UbN8YemfV"
      },
      "execution_count": null,
      "outputs": []
    },
    {
      "cell_type": "code",
      "source": [
        "# Build the node list from the behavior tree for the graph structure\n",
        "def print_node_instances(node_id, nodes_dict):\n",
        "    node = nodes_dict[node_id]\n",
        "    node_instance = node['Instance']\n",
        "    if node_instance is None:\n",
        "        return None\n",
        "    node_list.append(node_instance)\n",
        "    id_list.append(node_id)\n",
        "\n",
        "    if 'firstChild' in node:\n",
        "        first_child_id = node['firstChild']['Id']\n",
        "        print_node_instances(first_child_id, nodes_dict)\n",
        "        next_child = node['firstChild'].get('Next')\n",
        "\n",
        "        while next_child is not None:\n",
        "            next_child_id = next_child['Id']\n",
        "            print_node_instances(next_child_id, nodes_dict)\n",
        "            next_child = next_child.get('Next')\n",
        "\n",
        "    return node_list, id_list"
      ],
      "metadata": {
        "id": "IttP8Hm-iEpE"
      },
      "execution_count": null,
      "outputs": []
    },
    {
      "cell_type": "code",
      "source": [
        "# Get the index of the parent in the behavior tree\n",
        "def get_index(node_id, nodes_dict, id_list):\n",
        "    node = nodes_dict[node_id]\n",
        "    node_instance = node.get('Instance')\n",
        "    node_index = id_list.index(node_id)\n",
        "    node_index = node_index + 1 #node list start with 'r'\n",
        "\n",
        "    return node_index, node_instance"
      ],
      "metadata": {
        "id": "7-WaAklPkVCM"
      },
      "execution_count": null,
      "outputs": []
    },
    {
      "cell_type": "code",
      "source": [
        "# Find the parent of a node\n",
        "def find_parent(node_id, node, parent_child_dict, id_list, nodes_dict):\n",
        "    parent_index, parent_instance = get_index(node_id, nodes_dict, id_list)\n",
        "\n",
        "    if 'firstChild' in node:\n",
        "        first_child_id = node['firstChild']['Id']\n",
        "        child_index, child_instance = get_index(first_child_id, nodes_dict, id_list)\n",
        "\n",
        "        if parent_index not in parent_child_dict:\n",
        "            parent_child_dict[parent_index] = []\n",
        "        if child_index not in parent_child_dict[parent_index]:\n",
        "            parent_child_dict[parent_index].append(child_index)\n",
        "\n",
        "        next_child = node['firstChild'].get('Next')\n",
        "        while next_child is not None:\n",
        "            next_child_id = next_child['Id']\n",
        "            child_index, child_instance = get_index(next_child_id, nodes_dict, id_list)\n",
        "            if child_index not in parent_child_dict[parent_index]:\n",
        "                parent_child_dict[parent_index].append(child_index)  # Add child index to the parent's list\n",
        "            next_child = next_child.get('Next')\n",
        "\n",
        "        return parent_instance"
      ],
      "metadata": {
        "id": "uh_jxzIljtBi"
      },
      "execution_count": null,
      "outputs": []
    },
    {
      "cell_type": "code",
      "source": [
        "# Build a parent-child dictionary for nodes in the bahavior tree\n",
        "def create_parent_child_dict(nodes_dict, node_list, id_list):\n",
        "    parent_child_dict = {}\n",
        "    # root = node_list[0] #r\n",
        "    parent_child_dict[0] = [1]  # Add root node with index 0\n",
        "\n",
        "    for i, (instance, node_id) in enumerate(zip(node_list[1:], id_list), start=1):\n",
        "        node_index = i\n",
        "        node_id =id_list[node_index-1]\n",
        "        node = nodes_dict[node_id]\n",
        "        find_parent(node_id, node, parent_child_dict, id_list, nodes_dict)\n",
        "\n",
        "    return parent_child_dict"
      ],
      "metadata": {
        "id": "A915Fs1bjdAy"
      },
      "execution_count": null,
      "outputs": []
    },
    {
      "cell_type": "code",
      "source": [
        "# function to translate the case solution to graph structure\n",
        "# This function must work for all the cases and the query\n",
        "# TODO\n",
        "def translateCasesFromJSONtoGraph(case):\n",
        "  ## Preeja can provide this\n",
        "  tree_dict, parent_child_dict = {},{}\n",
        "  # node_list = ['r'] # Added 'r' as the default root node in the node list\n",
        "  # id_list =[] #List of node id's\n",
        "\n",
        "  for idx, obj in enumerate(case, start=1):\n",
        "      trees = obj['data']['trees']\n",
        "      # Get the 'nodes' from 'trees'\n",
        "      for tree in trees:\n",
        "          nodes_dict = {}\n",
        "          nodes = tree.get('nodes', {})\n",
        "          nodes_dict.update(nodes)\n",
        "          # Get the root node\n",
        "          root_node_id = tree.get('root')\n",
        "\n",
        "      # Call the recursive function to print node instances\n",
        "      node_list, id_list= print_node_instances(root_node_id, nodes_dict, node_list = ['r'], id_list =[])\n",
        "      # Call the function to create the parent_child dictionary\n",
        "      parent_child_dict = create_parent_child_dict(nodes_dict, node_list, id_list)\n",
        "      # Build the adjacency list from the behavior tree\n",
        "      adjacency_list = build_adjacency_list(node_list, parent_child_dict)\n",
        "\n",
        "      tree_key = f'tree_{idx}'\n",
        "      tree_dict[tree_key] = {\n",
        "              'tree_json': trees,\n",
        "              'tree_graph': {\n",
        "                  'nodes': node_list,\n",
        "                  'adj': adjacency_list\n",
        "              }\n",
        "      }\n",
        "\n",
        "  # # Print the dictionary\n",
        "  # print('\\n',tree_dict)\n",
        "\n",
        "  return tree_dict"
      ],
      "metadata": {
        "id": "tDcmvoG6pgKt"
      },
      "execution_count": null,
      "outputs": []
    },
    {
      "cell_type": "markdown",
      "source": [
        "# New section"
      ],
      "metadata": {
        "id": "LQqBgmf-bA2x"
      }
    },
    {
      "cell_type": "code",
      "source": [
        "# NOT USEFUL IN REAL LIFE, ONLY HERE TO TEST\n",
        "# delta: custom node distance function\n",
        "def std_delta(x, y):\n",
        "    if(x==y):\n",
        "        ret = 0.\n",
        "    elif(x!=None and y==None): #inserting\n",
        "        ret = insertion_cost\n",
        "    elif(x==None and y!=None): #deleting\n",
        "        ret = deletion_cost\n",
        "    elif(x=='r'or y=='r'):  #we assign an infinite cost when comparing a root node\n",
        "        ret = np.inf\n",
        "    elif(x in ['s','p'] and y in['s','p']): #if both nodes are either sequence or priority, assign null cost\n",
        "        ret = 0.\n",
        "    elif(x in ['s','p'] or y in ['s','p']): #if one of the nodes is a sequence or priority, the other won't because of the previous rule\n",
        "        ret = np.inf\n",
        "    elif(x[0] == '/' and y[0]=='/'):\n",
        "        ret =  leave_change\n",
        "    else :\n",
        "        ret = default_cost\n",
        "        #print('delta_unknown: ',str(x),\" , \"+str(y)+ \" = \"+ str(ret) )\n",
        "\n",
        "    #print('delta: ',str(x),\" , \"+str(y)+ \" = \"+ str(ret) )\n",
        "    return ret"
      ],
      "metadata": {
        "id": "OL_9dyTyroaI"
      },
      "execution_count": null,
      "outputs": []
    },
    {
      "cell_type": "code",
      "source": [
        "# delta: custom node distance function\n",
        "def semantic_delta(x, y):\n",
        "    df = getSimilarityTable()\n",
        "    #print(df[\"/Images/Anchors\"][\"/Images/Counterfactuals\"])\n",
        "\n",
        "    if(x==y):\n",
        "        ret = 0.\n",
        "    elif(x!=None and y==None): #inserting\n",
        "        #print(\"inserting\")\n",
        "        ret = insertion_cost\n",
        "    elif(x==None and y!=None): #deleting\n",
        "        #print(\"deleting\")\n",
        "        ret = deletion_cost\n",
        "    elif(x=='r'or y=='r'):  #we assign an infinite cost when comparing a root node\n",
        "        #print(\"root\")\n",
        "        ret = np.inf\n",
        "    elif(x in ['s','p'] and y in['s','p']): #if both nodes are either sequence or priority, assign null cost\n",
        "        #print(\"sequence and priority\")\n",
        "        ret = 0.\n",
        "    elif(x in ['s','p'] or y in ['s','p']): #if one of the nodes is a sequence or priority, the other won't because of the previous rule\n",
        "        #print(\"sequence or priority\")\n",
        "        ret = np.inf\n",
        "    elif x in df.columns and y in df.columns: #Both explainers are in similarity table, DF MUST BE LOADED BEFOREHAND\n",
        "        #print(\"changing explainers\")\n",
        "        if(df.loc[x][y]>.5):\n",
        "            ret = 0\n",
        "        else:\n",
        "            ret = leave_change\n",
        "    else :\n",
        "        ret = default_cost\n",
        "        #print('sem_delta_unknown: ',str(x),\" , \"+str(y)+ \" = \"+ str(ret) )\n",
        "\n",
        "    #print('sem_delta: ',str(x),\" , \"+str(y)+ \" = \"+ str(ret) )\n",
        "    return ret\n",
        "\n"
      ],
      "metadata": {
        "id": "mI91vZPSrlaM"
      },
      "execution_count": null,
      "outputs": []
    },
    {
      "cell_type": "code",
      "source": [
        "# Function to calculate the similarity between two BTs, both of them have to have graph structure\n",
        "def editDistFunc(x_nodes, x_adj, y_nodes, y_adj, delta):\n",
        "    # delta=custom node distance function\n",
        "    if delta is None:\n",
        "        return ted.standard_ted(x_nodes, x_adj, y_nodes, y_adj)\n",
        "    else:\n",
        "        return ted.ted(x_nodes, x_adj, y_nodes, y_adj, delta)"
      ],
      "metadata": {
        "id": "W55YFTvVq_Yl"
      },
      "execution_count": null,
      "outputs": []
    },
    {
      "cell_type": "code",
      "source": [
        "# Next, we have to get each case BT from response.text\n",
        "# save this in a structure (list, dictionary...)\n",
        "# TODO"
      ],
      "metadata": {
        "id": "KPsxx6EYsf0O"
      },
      "execution_count": null,
      "outputs": []
    },
    {
      "cell_type": "code",
      "source": [
        "# Select the subtree from the query that we have to consider, given a specific condition node\n",
        "# TODO"
      ],
      "metadata": {
        "id": "j-H1PKZgS7yY"
      },
      "execution_count": null,
      "outputs": []
    },
    {
      "cell_type": "code",
      "source": [
        "# Translate each BT (json format) to graph structure (list of nodes and adjacency list)\n",
        "# Also, we should use another structure to save the correspondence between the json format\n",
        "# and the graph format, so later, when we have to return the json format for the most similar BT\n",
        "# we ca access that structure and not doing the translation again\n",
        "# TODO\n",
        "# call to translateCases(case)"
      ],
      "metadata": {
        "id": "i6kFuaxLsghX"
      },
      "execution_count": null,
      "outputs": []
    },
    {
      "cell_type": "code",
      "source": [
        "# Adapt the similarity metric function between explainers\n",
        "# Think of how to do it\n",
        "# TODO\n"
      ],
      "metadata": {
        "id": "fpljhcXSrgJL"
      },
      "execution_count": null,
      "outputs": []
    },
    {
      "cell_type": "code",
      "source": [
        "# MAIN\n",
        "# solution = structure\n",
        "# for every BT in the case base:\n",
        "#   compare the query with that BT\n",
        "#   solution[BT] = editDistFunc(x_nodes, x_adj, y_nodes, y_adj, delta)\n",
        "\n",
        "# Sort solution to get the BT with the lowest edit distance\n",
        "\n",
        "# From the structure above, we have to get the json format for that solution\n"
      ],
      "metadata": {
        "id": "Z5S_XEEfsVMg"
      },
      "execution_count": null,
      "outputs": []
    },
    {
      "cell_type": "code",
      "source": [],
      "metadata": {
        "id": "W5kfkS7lBGPI"
      },
      "execution_count": null,
      "outputs": []
    }
  ]
}