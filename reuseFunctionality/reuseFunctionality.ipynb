{
 "cells": [
  {
   "cell_type": "code",
   "execution_count": 1,
   "metadata": {
    "colab": {
     "base_uri": "https://localhost:8080/"
    },
    "id": "SdU8NRXSpK5x",
    "outputId": "68ca2302-ad74-4eeb-f3d8-448887804572"
   },
   "outputs": [
    {
     "name": "stdout",
     "output_type": "stream",
     "text": [
      "Defaulting to user installation because normal site-packages is not writeable\n",
      "Requirement already satisfied: edist in c:\\users\\marta\\appdata\\roaming\\python\\python39\\site-packages (1.2.0)\n",
      "Requirement already satisfied: numpy in c:\\programdata\\anaconda3\\lib\\site-packages (from edist) (1.21.5)\n",
      "Requirement already satisfied: scikit-learn in c:\\programdata\\anaconda3\\lib\\site-packages (from edist) (1.0.2)\n",
      "Requirement already satisfied: scipy in c:\\programdata\\anaconda3\\lib\\site-packages (from edist) (1.9.1)\n",
      "Requirement already satisfied: proto-dist-ml in c:\\users\\marta\\appdata\\roaming\\python\\python39\\site-packages (from edist) (1.0.1)\n",
      "Requirement already satisfied: joblib>=0.11 in c:\\programdata\\anaconda3\\lib\\site-packages (from scikit-learn->edist) (1.1.0)\n",
      "Requirement already satisfied: threadpoolctl>=2.0.0 in c:\\programdata\\anaconda3\\lib\\site-packages (from scikit-learn->edist) (2.2.0)\n"
     ]
    }
   ],
   "source": [
    "# Libraries here\n",
    "import pandas as pd\n",
    "import numpy as np\n",
    "import requests\n",
    "import json\n",
    "\n",
    "!pip install edist\n",
    "import edist.sed as sed"
   ]
  },
  {
   "cell_type": "code",
   "execution_count": 2,
   "metadata": {
    "id": "FbD_vnQprqf8"
   },
   "outputs": [],
   "source": [
    "insertion_cost = 1.\n",
    "deletion_cost = 1.\n",
    "leave_change = 1. \n",
    "default_cost = 100"
   ]
  },
  {
   "cell_type": "code",
   "execution_count": 3,
   "metadata": {},
   "outputs": [],
   "source": [
    "intents = {}\n",
    "intents[\"DEBUGGING\"] = [\"Is this the same outcome for similar instances?\", \"Is this instance a common occurrence?\"]\n",
    "intents[\"TRANSPARENCY\"] = [\"What is the impact of feature X on the outcome?\",\"How does feature X impact the outcome?\",\"What are the necessary features that guarantee this outcome?\",\"Why does the AI system have given outcome A?\",\"Which feature contributed to the current outcome?\",\"How does the AI system respond to feature X?\",\"What is the goal of the AI system?\",\"What is the scope of the AI system capabilities?\",\"What features does the AI system consider?\",\"What are the important features for the AI system?\", \"What is the impact of feature X on the AI system?\",\"How much evidence has been considered to build the AI system?\", \"How much evidence has been considered in the current outcome?\",\"What are the possible outcomes of the AI system?\",\"What features are used by the AI system?\"] \n",
    "intents[\"PERFORMANCE\"] = [\"How confident is the AI system with the outcome?\",\"Which instances get a similar outcome?\",\"Which instances get outcome A?\",\"What are the results when others use the AI System?\",\"How accurate is the AI system?\",\"How reliable is the AI system?\",\"In what situations does the AI system make errors?\",\"What are the limitations of the AI system?\",\"In what situations is the AI system likely to be correct?\"] \n",
    "intents[\"COMPLIANCY\"] = [\"How well does the AI system capture the real-world?\",\"Why are instances A and B given different outcomes?\"]\n",
    "intents[\"COMPREHENSIBILITY\"] = [\"How to improve the AI system performance?\",\"What does term X mean?\",\"What is the overall logic of the AI system?\",\"What kind of algorithm is used in the AI system?\"]\n",
    "intents[\"EFFECTIVENESS\"] = [\"What would be the outcome if features X is changed to value V?\",\"What other instances would get the same outcome?\",\"How does the AI system react if feature X is changed?\",\"What is the impact of the current outcome?\"] \n",
    "intents[\"ACTIONABILITY\"] = [\"What are the alternative scenarios available?\",\"What type of instances would get a different outcome?\",\"How can I change feature X to get the same outcome?\",\"How to get a different outcome?\",\"How to change the instance to get a different outcome?\",\"How to change the instance to get outcome {outcome}?\",\"Why does the AI system have given outcome A not B?\",\"Which features need changed to get a different outcome?\"] "
   ]
  },
  {
   "cell_type": "code",
   "execution_count": 4,
   "metadata": {
    "colab": {
     "base_uri": "https://localhost:8080/",
     "height": 381
    },
    "id": "DSMc8Ss0pZLv",
    "outputId": "8431f2fd-105d-4863-cf65-195fa16ee8e9"
   },
   "outputs": [],
   "source": [
    "# API call to iSeeOntoAPI to get the most similar cases\n",
    "def getCasesJson(treeId_paremeter,usecaseId_parameter,topK_paremeter):\n",
    "    \"\"\"\n",
    "        Function to get the solutions for that case in json format\n",
    "    \"\"\"\n",
    "    url = \"https://api-dev.isee4xai.com/api/trees/cbr_retrieve\"\n",
    "\n",
    "    payload = json.dumps({\n",
    "      \"treeId\": treeId_paremeter,\n",
    "      \"usecaseId\": usecaseId_parameter,\n",
    "      \"topk\": topK_paremeter\n",
    "    })\n",
    "    headers = {\n",
    "      'Content-Type': 'application/json'\n",
    "    }\n",
    "\n",
    "    response = requests.request(\"POST\", url, headers=headers, data=payload)\n",
    "\n",
    "    #print(response.text)\n",
    "\n",
    "    return json.loads(response.text)"
   ]
  },
  {
   "cell_type": "markdown",
   "metadata": {},
   "source": [
    "### Translator Json-Graph"
   ]
  },
  {
   "cell_type": "code",
   "execution_count": 5,
   "metadata": {
    "id": "IttP8Hm-iEpE"
   },
   "outputs": [],
   "source": [
    "def print_node_instances(node_id, nodes_dict, node_list, id_list): \n",
    "    node = nodes_dict[node_id]\n",
    "    node_instance = node['Instance']\n",
    "    if node_instance is None:\n",
    "        return None\n",
    "    node_list.append(node_instance)\n",
    "    id_list.append(node_id)\n",
    "\n",
    "    if 'firstChild' in node:\n",
    "        first_child_id = node['firstChild']['Id']\n",
    "        print_node_instances(first_child_id, nodes_dict, node_list, id_list)\n",
    "        next_child = node['firstChild'].get('Next')\n",
    "\n",
    "        while next_child is not None:\n",
    "            next_child_id = next_child['Id']\n",
    "            print_node_instances(next_child_id, nodes_dict, node_list, id_list)\n",
    "            next_child = next_child.get('Next')\n",
    "\n",
    "    return node_list, id_list"
   ]
  },
  {
   "cell_type": "code",
   "execution_count": 6,
   "metadata": {
    "id": "7-WaAklPkVCM"
   },
   "outputs": [],
   "source": [
    "def get_index(node_id, nodes_dict, id_list):\n",
    "    node = nodes_dict[node_id]\n",
    "    node_instance = node.get('Instance')\n",
    "    node_index = id_list.index(node_id)\n",
    "    node_index = node_index + 1\n",
    "\n",
    "    return node_index, node_instance"
   ]
  },
  {
   "cell_type": "code",
   "execution_count": 7,
   "metadata": {
    "id": "uh_jxzIljtBi"
   },
   "outputs": [],
   "source": [
    "def find_parent(node_id, node, parent_child_dict, id_list, nodes_dict):\n",
    "    parent_index, parent_instance = get_index(node_id, nodes_dict, id_list)\n",
    "    \n",
    "    if 'firstChild' in node:\n",
    "        first_child_id = node['firstChild']['Id']\n",
    "        child_index, child_instance = get_index(first_child_id, nodes_dict, id_list)\n",
    "\n",
    "        if parent_index not in parent_child_dict:\n",
    "            parent_child_dict[parent_index] = []\n",
    "        if child_index not in parent_child_dict[parent_index]:\n",
    "            parent_child_dict[parent_index].append(child_index)\n",
    "        \n",
    "        next_child = node['firstChild'].get('Next')\n",
    "        while next_child is not None:\n",
    "            next_child_id = next_child['Id']\n",
    "            child_index, child_instance = get_index(next_child_id, nodes_dict, id_list)\n",
    "            if child_index not in parent_child_dict[parent_index]:\n",
    "                parent_child_dict[parent_index].append(child_index)  # Add child index to the parent's list\n",
    "            next_child = next_child.get('Next')\n",
    "\n",
    "        return parent_instance"
   ]
  },
  {
   "cell_type": "code",
   "execution_count": 8,
   "metadata": {
    "id": "A915Fs1bjdAy"
   },
   "outputs": [],
   "source": [
    "def create_parent_child_dict(nodes_dict, node_list, id_list): \n",
    "    parent_child_dict = {}   \n",
    "    # root = node_list[0] #r \n",
    "    parent_child_dict[0] = [1]  # Add root node with index 0\n",
    "\n",
    "    for i, (instance, node_id) in enumerate(zip(node_list[1:], id_list), start=1):\n",
    "        node_index = i\n",
    "        node_id =id_list[node_index-1]\n",
    "        node = nodes_dict[node_id]\n",
    "        find_parent(node_id, node, parent_child_dict, id_list, nodes_dict)\n",
    "    \n",
    "    return parent_child_dict"
   ]
  },
  {
   "cell_type": "code",
   "execution_count": 9,
   "metadata": {},
   "outputs": [],
   "source": [
    "def build_adjacency_list(node_list, parent_child_dict): \n",
    "    adjacency_list = [[] for _ in range(len(node_list))]\n",
    "\n",
    "    for node_index, node_instance in enumerate(node_list):\n",
    "        if node_index in parent_child_dict:\n",
    "            children = parent_child_dict[node_index]\n",
    "            adjacency_list[node_index] = children\n",
    "\n",
    "    return adjacency_list"
   ]
  },
  {
   "cell_type": "code",
   "execution_count": 10,
   "metadata": {
    "id": "tDcmvoG6pgKt"
   },
   "outputs": [],
   "source": [
    "# function to translate the case solution to graph structure \n",
    "# This function must work for all the cases and the query \n",
    "# TODO\n",
    "def translateCasesFromJSONtoGraph(case):\n",
    "    tree_dict, nodes_dict, parent_child_dict = {},{},{}\n",
    "    node_list = ['r'] # Added 'r' as the default root node in the node list\n",
    "    id_list =[] #List of node id's \n",
    "\n",
    "\n",
    "    for idx, obj in enumerate(case, start=1):\n",
    "        trees = obj['data']['trees']\n",
    "        # Get the 'nodes' from 'trees'\n",
    "        for tree in trees:\n",
    "            nodes = tree.get('nodes', {})\n",
    "            nodes_dict.update(nodes)\n",
    "            # Get the root node\n",
    "            root_node_id = tree.get('root')    \n",
    "\n",
    "        # Call the recursive function to print node instances\n",
    "        node_list, id_list= print_node_instances(root_node_id, nodes_dict, node_list = ['r'], id_list =[])\n",
    "        # Call the function to create the parent_child dictionary\n",
    "        parent_child_dict = create_parent_child_dict(nodes_dict, node_list, id_list)\n",
    "        # Build the adjacency list from the behavior tree\n",
    "        adjacency_list = build_adjacency_list(node_list, parent_child_dict)\n",
    "\n",
    "        tree_key = f'tree_{idx}'\n",
    "        #   tree_dict[tree_key] = trees\n",
    "        tree_dict[tree_key] = {\n",
    "              'tree_json': trees,\n",
    "              'tree_graph': {\n",
    "                  'nodes': node_list,\n",
    "                  'adj': adjacency_list\n",
    "              }\n",
    "        }\n",
    "\n",
    "    return tree_dict\n"
   ]
  },
  {
   "cell_type": "code",
   "execution_count": 11,
   "metadata": {},
   "outputs": [],
   "source": [
    "#json_text = json.loads(response.text)\n",
    "#tree_dict = translateCasesFromJSONtoGraph(json_text)\n",
    "#print(tree_dict)"
   ]
  },
  {
   "cell_type": "markdown",
   "metadata": {
    "id": "LQqBgmf-bA2x"
   },
   "source": [
    "### Getting the most similar BT"
   ]
  },
  {
   "cell_type": "code",
   "execution_count": 12,
   "metadata": {},
   "outputs": [],
   "source": [
    "def tmp_explainers(x):\n",
    "    if x in [\"/Images/Anchors\", \"/Images/Counterfactuals\", \"/Tabular/ALE\", \"/Tabular/DisCERN\"]:\n",
    "        return True\n",
    "    else:\n",
    "        return False"
   ]
  },
  {
   "cell_type": "code",
   "execution_count": 13,
   "metadata": {},
   "outputs": [],
   "source": [
    "def typeQuestion(question):\n",
    "    question_type = [key for key in intents.keys() if question in intents[key]]\n",
    "    print(question_type)\n",
    "    if question_type == []: \n",
    "        print(\"That question is not in our catalog\")\n",
    "    else:\n",
    "        return question_type[0]"
   ]
  },
  {
   "cell_type": "code",
   "execution_count": 14,
   "metadata": {
    "id": "mI91vZPSrlaM"
   },
   "outputs": [],
   "source": [
    "# delta: custom node distance function\n",
    "def semantic_delta(x, y):\n",
    "    #df = getSimilarityTable()\n",
    "    #print(df[\"/Images/Anchors\"][\"/Images/Counterfactuals\"])\n",
    "\n",
    "    if(x==y):\n",
    "        ret = 0.\n",
    "    elif(x!=None and y==None): #inserting\n",
    "        #print(\"inserting\")\n",
    "        ret = insertion_cost\n",
    "    elif(x==None and y!=None): #deleting\n",
    "        #print(\"deleting\")\n",
    "        ret = deletion_cost\n",
    "    elif(x=='r'or y=='r'):  #we assign an infinite cost when comparing a root node\n",
    "        #print(\"root\")\n",
    "        ret = np.inf\n",
    "    elif(x in ['f','t'] and y in ['f','t']): #if both nodes are either failer or succeeder, assign null cost\n",
    "        #print(\"failer and succeeder\")\n",
    "        ret = 0.\n",
    "    elif(x in ['s','p'] and y in['s','p']): #if both nodes are either sequence or priority, assign null cost\n",
    "        #print(\"sequence and priority\")\n",
    "        ret = 0.\n",
    "    elif(x in ['s','p'] or y in ['s','p']): #if one of the nodes is a sequence or priority, the other won't because of the previous rule\n",
    "        #print(\"sequence or priority\")\n",
    "        ret = np.inf\n",
    "    elif(x in ['f','t'] and y[0]=='/'):\n",
    "        #print(\"cambiando explainer por failure or succeeder\")\n",
    "        ret = leave_change\n",
    "    elif(x[0]=='/' and y in ['f','t']):\n",
    "        #print(\"cambiando explainer por failure or succeeder\")\n",
    "        ret = leave_change\n",
    "    # elif x in df.columns and y in df.columns: #Both explainers are in similarity table, DF MUST BE LOADED BEFOREHAND\n",
    "        # ret = 1-df.loc[x][y]\n",
    "    elif tmp_explainers(x) == False: # TODO\n",
    "        ret = 1\n",
    "    else: # here we have a question leave\n",
    "        # if they are the same type\n",
    "        if typeQuestion(x) == typeQuestion(y):\n",
    "            ret = 0.75\n",
    "        else: # if they are not the same type\n",
    "            ret = 0.5\n",
    "       \n",
    "    #print('sem_delta: ',str(x),\" , \"+str(y)+ \" = \"+ str(ret) )   \n",
    "    return ret"
   ]
  },
  {
   "cell_type": "code",
   "execution_count": 15,
   "metadata": {},
   "outputs": [],
   "source": [
    "def bt_sequence(tree,node,adj_node,seq):\n",
    "    seq.append(node)\n",
    "    if adj_node: \n",
    "        for child in adj_node:\n",
    "            bt_sequence(tree, tree[\"nodes\"][child],tree[\"adj\"][child],seq)"
   ]
  },
  {
   "cell_type": "code",
   "execution_count": 16,
   "metadata": {
    "id": "W55YFTvVq_Yl"
   },
   "outputs": [],
   "source": [
    "# Function to calculate the edit distance between two BTs, both of them have to have graph structure\n",
    "# in this case is Levenshtein edit distance\n",
    "def editDistFunc(q,c,delta):\n",
    "    s1=[]\n",
    "    bt_sequence(q,q[\"nodes\"][0],q[\"adj\"][0],s1)\n",
    "    s2=[]\n",
    "    bt_sequence(c,c[\"nodes\"][0],c[\"adj\"][0],s2)\n",
    "    dist = sed.sed(s1,s2,delta)\n",
    "    return dist"
   ]
  },
  {
   "cell_type": "code",
   "execution_count": 17,
   "metadata": {
    "id": "j-H1PKZgS7yY"
   },
   "outputs": [],
   "source": [
    "# Select the subtree from the query that we have to consider, given a specific condition node\n",
    "# TODO"
   ]
  },
  {
   "cell_type": "code",
   "execution_count": 18,
   "metadata": {
    "id": "i6kFuaxLsghX"
   },
   "outputs": [],
   "source": [
    "# Translate each BT (json format) to graph structure (list of nodes and adjacency list)\n",
    "# Also, we should use another structure to save the correspondence between the json format\n",
    "# and the graph format, so later, when we have to return the json format for the most similar BT\n",
    "# we ca access that structure and not doing the translation again\n",
    "# call to translateCases(case)\n",
    "\n",
    "#treeId_parameter = \"64b676baa737e466ce27f166\" # query\n",
    "#usecaseId_parameter = \"6426a68da3402ba28c44a7c0\" # case of the query\n",
    "\n",
    "\n",
    "\n",
    "# json_text = getCasesJson(treeId_parameter,usecaseId_parameter,topK_parameter)\n",
    "\n",
    "# tree_dict = translateCasesFromJSONtoGraph(json_text) # here we also have the query\n",
    "\n",
    "# print(tree_dict)"
   ]
  },
  {
   "cell_type": "code",
   "execution_count": 19,
   "metadata": {
    "id": "fpljhcXSrgJL"
   },
   "outputs": [],
   "source": [
    "# Adapt the similarity metric function between explainers\n",
    "# Think of how to do it\n",
    "# TODO\n",
    "# FINISH EXPLAINER COMPARISON\n"
   ]
  },
  {
   "cell_type": "code",
   "execution_count": 29,
   "metadata": {
    "id": "Z5S_XEEfsVMg"
   },
   "outputs": [],
   "source": [
    "# MAIN\n",
    "def reuseFunctionality(queryJson, queryTree, queryCase, k_cases=5):\n",
    "    \n",
    "    # getting the cases to compare\n",
    "    json_text = getCasesJson(queryTree,queryCase,k_cases)\n",
    "    \n",
    "    # saving only the cases that are not the query\n",
    "    my_cases = []\n",
    "    for tree in json_text:\n",
    "        if tree != queryJson:\n",
    "            my_cases.append(tree)\n",
    "\n",
    "    # getting the graph format of the solutions (trees)\n",
    "    tree_dict = translateCasesFromJSONtoGraph(my_cases)\n",
    "    \n",
    "    # this might change when we know how we are getting the query\n",
    "    tree_query = translateCasesFromJSONtoGraph(queryJson)['tree_1']['tree_graph']\n",
    "    \n",
    "    # for every BT in the case base:\n",
    "    #   compare the query with that BT (taking into account that the query is not the same to the case)\n",
    "    solution = {}\n",
    "    for bt in tree_dict:\n",
    "        solution[bt] = editDistFunc(tree_query,tree_dict[bt]['tree_graph'],semantic_delta)    \n",
    "    \n",
    "    # Sort solution to get the BT with the lowest edit distance\n",
    "    sorted_BTs = sorted(solution.items(), key=lambda x:x[1])\n",
    "    \n",
    "    # getting the most similar one and the graph format of that BT\n",
    "    solution_graph_format = sorted_BTs[0][0]\n",
    "    # From the structure above, we have to get the json format for that solution (if there is root, we have to remove the root)\n",
    "    our_solution_json = tree_dict[solution_graph_format]['tree_json']\n",
    "    \n",
    "    return our_solution_json"
   ]
  },
  {
   "cell_type": "code",
   "execution_count": 30,
   "metadata": {
    "scrolled": true
   },
   "outputs": [],
   "source": [
    "## THIS CODE IS ONLY FOR TESTING, REMOVE LATER\n",
    "# Load case base from json file\n",
    "with open(\"apioutput.json\", \"r\") as f:\n",
    "    queryJson = json.load(f)"
   ]
  },
  {
   "cell_type": "code",
   "execution_count": 31,
   "metadata": {
    "scrolled": true
   },
   "outputs": [
    {
     "name": "stdout",
     "output_type": "stream",
     "text": [
      "mi query\n",
      "{'nodes': ['r', 'Sequence', 'Priority', 'User Question', '/Tabular/DeepSHAPGlobal'], 'adj': [[1], [2], [3, 4], [], []]}\n",
      "{'nodes': ['r', 'Priority', 'Sequence', 'User Question', '/Tabular/LIME'], 'adj': [[1], [2], [3, 4], [], []]}\n",
      "{'nodes': ['r', 'Priority', 'Sequence', 'User Question', '/Tabular/DisCERN'], 'adj': [[1], [2], [3, 4], [], []]}\n",
      "{'nodes': ['r', 'Priority', 'Sequence', 'User Question', '/Tabular/DeepSHAPLocal'], 'adj': [[1], [2], [3, 4], [], []]}\n",
      "{'nodes': ['r', 'Priority', 'Sequence', 'User Question', '/Tabular/DeepSHAPGlobal'], 'adj': [[1], [2], [3, 4], [], []]}\n",
      "[('tree_4', 2.0), ('tree_1', 3.0), ('tree_2', 3.0), ('tree_3', 3.0)]\n",
      "tree_4\n",
      "[{'version': '0.1.0', 'scope': 'tree', 'id': '33def3ec-31a8-47c1-856c-7fd724718df2', 'Instance': 'Explanation Experience', 'description': '', 'root': '546f5cee-68b0-4b90-85be-786b9957d03a', 'properties': {}, 'nodes': {'5112868d-f790-4665-ab3e-18a36a857363': {'id': '5112868d-f790-4665-ab3e-18a36a857363', 'Concept': 'Sequence', 'Instance': 'Sequence', 'description': '', 'properties': {}, 'display': {'x': -60, 'y': 168}, 'firstChild': {'Id': '85b9b22e-1b0a-4a9b-81a9-83952d27271a', 'Next': {'Id': '5829d6db-5011-4ad8-846a-ab8452c6be46', 'Next': None}}}, '546f5cee-68b0-4b90-85be-786b9957d03a': {'id': '546f5cee-68b0-4b90-85be-786b9957d03a', 'Concept': 'Priority', 'Instance': 'Priority', 'description': '', 'properties': {}, 'display': {'x': -60, 'y': 84}, 'firstChild': {'Id': '5112868d-f790-4665-ab3e-18a36a857363', 'Next': None}}, '85b9b22e-1b0a-4a9b-81a9-83952d27271a': {'id': '85b9b22e-1b0a-4a9b-81a9-83952d27271a', 'Concept': 'User Question', 'Instance': 'User Question', 'description': '', 'properties': {}, 'display': {'x': -192, 'y': 324}, 'params': {'Question': {'key': 'Question', 'value': 'What features contributed to predicting mortality?'}}}, '5829d6db-5011-4ad8-846a-ab8452c6be46': {'id': '5829d6db-5011-4ad8-846a-ab8452c6be46', 'Concept': 'Explanation Method', 'Instance': '/Tabular/DeepSHAPGlobal', 'description': '', 'properties': {}, 'display': {'x': 60, 'y': 324}, 'params': {'output_classes': {'key': 'output_classes', 'value': '[ ]', 'default': '[ ]', 'range': [None, None], 'required': 'false', 'description': 'Array of integers representing the classes to be explained. Defaults to class 1.', 'type': 'text'}, 'top_classes': {'key': 'top_classes', 'value': 1, 'default': 1, 'range': [None, None], 'required': 'false', 'description': \"Integer representing the number of classes with the highest prediction probability to be explained. Overrides 'output_classes' if provided.\", 'type': 'number'}, 'num_features': {'key': 'num_features', 'value': 10, 'default': 10, 'range': [None, None], 'required': 'false', 'description': 'Integer representing the maximum number of features to be included in the explanation.', 'type': 'number'}, 'png_width': {'key': 'png_width', 'value': 1000, 'default': 1000, 'range': [None, None], 'required': 'false', 'description': 'Width (in pixels) of the png image containing the explanation.', 'type': 'number'}, 'png_height': {'key': 'png_height', 'value': 400, 'default': 400, 'range': [None, None], 'required': 'false', 'description': 'Height (in pixels) of the png image containing the explanation.', 'type': 'number'}}}}, 'display': {'camera_x': 937, 'camera_y': 472, 'camera_z': 1, 'x': -60, 'y': 0}}]\n"
     ]
    }
   ],
   "source": [
    "treeId_parameter = \"64c28fa0905203cf45444936\"\n",
    "usecaseId_parameter = \"64c28f69905203cf4544491c\"\n",
    "topK_parameter = 5 # number of similar cases we need for the query\n",
    "\n",
    "# TODO\n",
    "reuseFunctionality(queryJson, treeId_parameter, usecaseId_parameter, topK_parameter)\n",
    "# I HAVE TO DEFINE queryjson"
   ]
  },
  {
   "cell_type": "code",
   "execution_count": 32,
   "metadata": {},
   "outputs": [],
   "source": [
    "# TODO\n",
    "# DEFINE EXPLAINER SIMILARITIES\n",
    "# GET THE SOLUTION without root "
   ]
  },
  {
   "cell_type": "code",
   "execution_count": null,
   "metadata": {},
   "outputs": [],
   "source": []
  }
 ],
 "metadata": {
  "colab": {
   "provenance": [],
   "toc_visible": true
  },
  "kernelspec": {
   "display_name": "Python 3 (ipykernel)",
   "language": "python",
   "name": "python3"
  },
  "language_info": {
   "codemirror_mode": {
    "name": "ipython",
    "version": 3
   },
   "file_extension": ".py",
   "mimetype": "text/x-python",
   "name": "python",
   "nbconvert_exporter": "python",
   "pygments_lexer": "ipython3",
   "version": "3.9.13"
  }
 },
 "nbformat": 4,
 "nbformat_minor": 1
}
